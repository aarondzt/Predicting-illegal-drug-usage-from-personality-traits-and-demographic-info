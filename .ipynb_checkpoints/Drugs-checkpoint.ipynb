{
 "cells": [
  {
   "cell_type": "markdown",
   "metadata": {},
   "source": [
    "## Predicting illegal drug usage from personality traits and demographic info"
   ]
  },
  {
   "cell_type": "markdown",
   "metadata": {},
   "source": [
    "### Abstract\n",
    "Understanding the personality traits that are predictive of illegal drug usage is important for public health and guidence of policy-making. In Fehrman et al.(1), the authors collect survey data on demographic factors, personality traits, and drug usage, and then run several machine learning models to analyze the traits that are predictive of the usage of individual and clusters of drugs. In this project, I focused on individuals who have used drugs that are widely classified as illegal (mushrooms, ecstasy, cocaine, LSD, ketamine, heroin, and crack) at least once. Very few people will take any one of these drugs in their lifetime, so the type of person who would cross that threshold would be interesting to understand.\n",
    "\n",
    "I ran logistic regression and decision tree classifier models, which exhibited similar test accuracy (~70%) to the models described in the paper. The logistic regression model demonstrated that the personality traits of sensation seeking and openness to experience, in addition to the demographic of men were the most predictive of illegal drug use. The decision tree classifier demonstrated that a branch of lower sensation seeking, lower openness, and higher conscientiousness was the most predictive of never using an illegal drug.\n",
    "\n",
    "(1) https://arxiv.org/abs/1506.06297"
   ]
  },
  {
   "cell_type": "markdown",
   "metadata": {},
   "source": [
    "### Introduction\n",
    "The authors of the paper collected survey data on five demographic factors (age, gender, education, country, ethnicity) and seven personality traits (neuroticism, extraversion, openness to experience, agreeableness, conscientiousness from the Five Factor Model (2), and impulsivity and sensation seeking from two other personlity inventories). The Five Factor model is a well-validated metric of personality that has shown to be predictive of real-world outcomes in many studies. The impulsivity and sensation seeking metrics are specifically tailored to capture traits known to be associated with drug use. In addition to this, the authors collected data on the usage of 16 psychoactive substances (alcohol, amphetamines, amyl nitrite, benzodiazepines, caffeine, cannabis, cocaine, crack, ecstasy, heroin, ketamine, legal highs, LSD, methadone, mushrooms, nicotine, volatile substances), plus two controls (chocolate and a fictitious substance called semer). In the dataset provided by the UCI Machine Learning Repository (3), each feature was quantified and mean-centered. Some features were ordinal such as age (from bracket \"18-24\" to \"65+\"), education (from \n",
    "\"Left school before 16 years\" to \"Doctorate\"), and drug use (one of seven responses from \"Never used\" to \"Used in the last day.\" Other features, such as country and ethnicity, were quantified, although the quantification is neccessarily arbitrary.\n",
    "\n",
    "(2) https://www.annualreviews.org/doi/abs/10.1146/annurev.ps.41.020190.002221\n",
    "\n",
    "(3) https://archive.ics.uci.edu/ml/datasets/Drug+consumption+%28quantified%29"
   ]
  },
  {
   "cell_type": "markdown",
   "metadata": {},
   "source": [
    "### Related work and motivation\n",
    "Related studies have used this dataset to examine features predictive of alcohol (4) and volatile substance (5) abuse. In this project, I decided not to focus on a single drug, but the usage of drugs that are widely classified as illegal. I also decided not to focus on when/how often drugs are used, but simply on if an individual used an illegal drug at least once. That is, I excluded legal drugs (alcohol, caffeine, cannabis, and nicotine), prescription drugs (amphetamines, benzodiazepines, and methadone), and drugs of little public interest (amyl nitrite, legal highs, and volatile substances). This leaves mushrooms, ecstasy, cocaine, LSD, ketamine, heroin, and crack as my drugs of interest. Ultimately, the question was: What demographic factors and personality traits are predicative of choosing to use an illegal drug in one's lifetime?\n",
    "\n",
    "(4) https://link.springer.com/article/10.1007/s41870-018-0094-3\n",
    "\n",
    "(5) https://ieeexplore.ieee.org/abstract/document/8234516"
   ]
  },
  {
   "cell_type": "markdown",
   "metadata": {},
   "source": [
    "### Methods 1.1 Data loading"
   ]
  },
  {
   "cell_type": "code",
   "execution_count": 65,
   "metadata": {},
   "outputs": [
    {
     "name": "stdout",
     "output_type": "stream",
     "text": [
      "(1885, 31)\n"
     ]
    }
   ],
   "source": [
    "# Read csv\n",
    "import pandas as pd\n",
    "csv = pd.read_csv('Data/Drugs.csv', header = None)\n",
    "print(csv.shape)"
   ]
  },
  {
   "cell_type": "code",
   "execution_count": 66,
   "metadata": {},
   "outputs": [
    {
     "name": "stdout",
     "output_type": "stream",
     "text": [
      "31\n"
     ]
    }
   ],
   "source": [
    "# Name columns\n",
    "columns = ['Age', 'Female', 'Education', 'Country', 'Ethnicity', \\\n",
    "           'Neuroticism', 'Extraversion', 'Openness', 'Agreeableness', 'Conscientiousness', \\\n",
    "           'Impulsivity', 'SensationSeeking', \\\n",
    "           'Alcohol', 'Amphetamines', 'AmylNitrite', 'Benzodiazepines', 'Caffeine', 'Cannabis', 'Chocolate', \\\n",
    "           'Cocaine', 'Crack', 'Ecstasy', 'Heroin', 'Ketamine', 'LegalHighs', 'LSD', 'Methadone', 'Mushrooms', \\\n",
    "           'Nicotine', 'Semer', 'VolatileSubstances']\n",
    "print(len(columns))"
   ]
  },
  {
   "cell_type": "code",
   "execution_count": 67,
   "metadata": {},
   "outputs": [],
   "source": [
    "# Create DataFrame\n",
    "data = pd.DataFrame(data = csv)\n",
    "data.columns = columns"
   ]
  },
  {
   "cell_type": "markdown",
   "metadata": {},
   "source": [
    "### Methods 1.2 Data cleaning, manipulation, and exploration"
   ]
  },
  {
   "cell_type": "code",
   "execution_count": 68,
   "metadata": {},
   "outputs": [],
   "source": [
    "# Drop multi-category, non-ordinal features\n",
    "data = data.drop(['Country', 'Ethnicity'], axis = 1)"
   ]
  },
  {
   "cell_type": "code",
   "execution_count": 69,
   "metadata": {},
   "outputs": [
    {
     "name": "stdout",
     "output_type": "stream",
     "text": [
      "0    1877\n",
      "2       3\n",
      "3       2\n",
      "1       2\n",
      "4       1\n",
      "Name: Semer, dtype: int64\n",
      "(1885, 29)\n",
      "(1877, 29)\n"
     ]
    }
   ],
   "source": [
    "# Check value count for Semer, a fictitious drug included to weed out participants responding improperly\n",
    "print(data.Semer.value_counts())\n",
    "print(data.shape)\n",
    "# Remove these rows\n",
    "data = data[data['Semer'] == 0]\n",
    "print(data.shape)\n",
    "# Drop semer column\n",
    "data = data.drop('Semer', axis = 1)"
   ]
  },
  {
   "cell_type": "code",
   "execution_count": 70,
   "metadata": {},
   "outputs": [],
   "source": [
    "# Name drug columns\n",
    "drug_columns = ['Alcohol', 'Amphetamines', 'AmylNitrite', 'Benzodiazepines', 'Caffeine', 'Cannabis', 'Chocolate', \\\n",
    "           'Cocaine', 'Crack', 'Ecstasy', 'Heroin', 'Ketamine', 'LegalHighs', 'LSD', 'Methadone', 'Mushrooms', \\\n",
    "           'Nicotine', 'VolatileSubstances']"
   ]
  },
  {
   "cell_type": "code",
   "execution_count": 71,
   "metadata": {},
   "outputs": [],
   "source": [
    "# Convert drug use to binary (1 = used, 0 = never used)\n",
    "for column in drug_columns:\n",
    "    data[column].values[data[column].values > 0] = 1"
   ]
  },
  {
   "cell_type": "code",
   "execution_count": 72,
   "metadata": {},
   "outputs": [
    {
     "data": {
      "text/plain": [
       "0   -0.95197\n",
       "dtype: float64"
      ]
     },
     "execution_count": 72,
     "metadata": {},
     "output_type": "execute_result"
    }
   ],
   "source": [
    "data['Age'].mode()"
   ]
  },
  {
   "cell_type": "code",
   "execution_count": 73,
   "metadata": {},
   "outputs": [
    {
     "data": {
      "image/png": "[encoded data removed]",
      "text/plain": [
       "<Figure size 720x720 with 9 Axes>"
      ]
     },
     "metadata": {
      "needs_background": "light"
     },
     "output_type": "display_data"
    }
   ],
   "source": [
    "# Plot histograms\n",
    "import matplotlib.pyplot as plt\n",
    "histograms = data[['Neuroticism', 'Extraversion', 'Openness', 'Agreeableness', 'Conscientiousness', \\\n",
    "           'Impulsivity', 'SensationSeeking']].hist(bins = 10, figsize = (10, 10))\n",
    "plt.savefig('Images/personality_histograms.png')"
   ]
  },
  {
   "cell_type": "code",
   "execution_count": 74,
   "metadata": {},
   "outputs": [
    {
     "data": {
      "text/html": [
       "<div>\n",
       "<style scoped>\n",
       "    .dataframe tbody tr th:only-of-type {\n",
       "        vertical-align: middle;\n",
       "    }\n",
       "\n",
       "    .dataframe tbody tr th {\n",
       "        vertical-align: top;\n",
       "    }\n",
       "\n",
       "    .dataframe thead th {\n",
       "        text-align: right;\n",
       "    }\n",
       "</style>\n",
       "<table border=\"1\" class=\"dataframe\">\n",
       "  <thead>\n",
       "    <tr style=\"text-align: right;\">\n",
       "      <th></th>\n",
       "      <th>Drug</th>\n",
       "      <th>% used</th>\n",
       "    </tr>\n",
       "  </thead>\n",
       "  <tbody>\n",
       "    <tr>\n",
       "      <th>4</th>\n",
       "      <td>Caffeine</td>\n",
       "      <td>0.99</td>\n",
       "    </tr>\n",
       "    <tr>\n",
       "      <th>0</th>\n",
       "      <td>Alcohol</td>\n",
       "      <td>0.98</td>\n",
       "    </tr>\n",
       "    <tr>\n",
       "      <th>6</th>\n",
       "      <td>Chocolate</td>\n",
       "      <td>0.98</td>\n",
       "    </tr>\n",
       "    <tr>\n",
       "      <th>5</th>\n",
       "      <td>Cannabis</td>\n",
       "      <td>0.78</td>\n",
       "    </tr>\n",
       "    <tr>\n",
       "      <th>16</th>\n",
       "      <td>Nicotine</td>\n",
       "      <td>0.77</td>\n",
       "    </tr>\n",
       "    <tr>\n",
       "      <th>1</th>\n",
       "      <td>Amphetamines</td>\n",
       "      <td>0.48</td>\n",
       "    </tr>\n",
       "    <tr>\n",
       "      <th>15</th>\n",
       "      <td>Mushrooms</td>\n",
       "      <td>0.48</td>\n",
       "    </tr>\n",
       "    <tr>\n",
       "      <th>3</th>\n",
       "      <td>Benzodiazepines</td>\n",
       "      <td>0.47</td>\n",
       "    </tr>\n",
       "    <tr>\n",
       "      <th>9</th>\n",
       "      <td>Ecstasy</td>\n",
       "      <td>0.46</td>\n",
       "    </tr>\n",
       "    <tr>\n",
       "      <th>7</th>\n",
       "      <td>Cocaine</td>\n",
       "      <td>0.45</td>\n",
       "    </tr>\n",
       "    <tr>\n",
       "      <th>13</th>\n",
       "      <td>LSD</td>\n",
       "      <td>0.43</td>\n",
       "    </tr>\n",
       "    <tr>\n",
       "      <th>12</th>\n",
       "      <td>LegalHighs</td>\n",
       "      <td>0.42</td>\n",
       "    </tr>\n",
       "    <tr>\n",
       "      <th>2</th>\n",
       "      <td>AmylNitrite</td>\n",
       "      <td>0.31</td>\n",
       "    </tr>\n",
       "    <tr>\n",
       "      <th>14</th>\n",
       "      <td>Methadone</td>\n",
       "      <td>0.24</td>\n",
       "    </tr>\n",
       "    <tr>\n",
       "      <th>17</th>\n",
       "      <td>VolatileSubstances</td>\n",
       "      <td>0.23</td>\n",
       "    </tr>\n",
       "    <tr>\n",
       "      <th>11</th>\n",
       "      <td>Ketamine</td>\n",
       "      <td>0.21</td>\n",
       "    </tr>\n",
       "    <tr>\n",
       "      <th>10</th>\n",
       "      <td>Heroin</td>\n",
       "      <td>0.15</td>\n",
       "    </tr>\n",
       "    <tr>\n",
       "      <th>8</th>\n",
       "      <td>Crack</td>\n",
       "      <td>0.14</td>\n",
       "    </tr>\n",
       "  </tbody>\n",
       "</table>\n",
       "</div>"
      ],
      "text/plain": [
       "                  Drug  % used\n",
       "4             Caffeine    0.99\n",
       "0              Alcohol    0.98\n",
       "6            Chocolate    0.98\n",
       "5             Cannabis    0.78\n",
       "16            Nicotine    0.77\n",
       "1         Amphetamines    0.48\n",
       "15           Mushrooms    0.48\n",
       "3      Benzodiazepines    0.47\n",
       "9              Ecstasy    0.46\n",
       "7              Cocaine    0.45\n",
       "13                 LSD    0.43\n",
       "12          LegalHighs    0.42\n",
       "2          AmylNitrite    0.31\n",
       "14           Methadone    0.24\n",
       "17  VolatileSubstances    0.23\n",
       "11            Ketamine    0.21\n",
       "10              Heroin    0.15\n",
       "8                Crack    0.14"
      ]
     },
     "execution_count": 74,
     "metadata": {},
     "output_type": "execute_result"
    }
   ],
   "source": [
    "# Rank by usage\n",
    "usage_list = []\n",
    "for column in drug_columns:\n",
    "    usage_list.append(data[column].mean())\n",
    "usage_df = pd.DataFrame(columns = ['Drug', '% used'])\n",
    "usage_df['Drug'] = drug_columns\n",
    "usage_df['% used'] = usage_list\n",
    "round(usage_df, 2).sort_values('% used', ascending = False)"
   ]
  },
  {
   "cell_type": "code",
   "execution_count": 75,
   "metadata": {},
   "outputs": [
    {
     "data": {
      "text/plain": [
       "Mushrooms          0.48\n",
       "Ecstasy            0.46\n",
       "Cocaine            0.45\n",
       "LSD                0.43\n",
       "Ketamine           0.21\n",
       "Heroin             0.15\n",
       "Crack              0.14\n",
       "UsedIllegalDrug    0.64\n",
       "dtype: float64"
      ]
     },
     "execution_count": 75,
     "metadata": {},
     "output_type": "execute_result"
    }
   ],
   "source": [
    "# Create column for participants who have used one or more illegal drugs\n",
    "pd.options.mode.chained_assignment = None\n",
    "illegal_drugs = ['Mushrooms', 'Ecstasy', 'Cocaine', 'LSD', 'Ketamine', 'Heroin', 'Crack']\n",
    "illegal_drugs_df = data[illegal_drugs]\n",
    "illegal_drugs_df['UsedIllegalDrug'] = illegal_drugs_df.sum(axis = 1)\n",
    "# If the sum of single use of any illegal drug > 0, then UsedIllegalDrug = 1\n",
    "illegal_drugs_df['UsedIllegalDrug'][illegal_drugs_df['UsedIllegalDrug'] > 0] = 1\n",
    "# Percent of participants who have used each drug at least once \n",
    "# + percent of participants who have used one or more of these drugs at least once\n",
    "round(illegal_drugs_df.mean(), 2)"
   ]
  },
  {
   "cell_type": "code",
   "execution_count": 76,
   "metadata": {},
   "outputs": [],
   "source": [
    "# Add column to main data\n",
    "data['UsedIllegalDrug'] = illegal_drugs_df['UsedIllegalDrug']\n",
    "# Drop columns not of interest\n",
    "data_illegaldrugs = data[['Age', 'Female', 'Education', 'Neuroticism', 'Extraversion', 'Openness', 'Agreeableness', \\\n",
    "            'Conscientiousness', 'Impulsivity', 'SensationSeeking', 'UsedIllegalDrug']]"
   ]
  },
  {
   "cell_type": "code",
   "execution_count": 77,
   "metadata": {},
   "outputs": [
    {
     "data": {
      "text/html": [
       "<div>\n",
       "<style scoped>\n",
       "    .dataframe tbody tr th:only-of-type {\n",
       "        vertical-align: middle;\n",
       "    }\n",
       "\n",
       "    .dataframe tbody tr th {\n",
       "        vertical-align: top;\n",
       "    }\n",
       "\n",
       "    .dataframe thead th {\n",
       "        text-align: right;\n",
       "    }\n",
       "</style>\n",
       "<table border=\"1\" class=\"dataframe\">\n",
       "  <thead>\n",
       "    <tr style=\"text-align: right;\">\n",
       "      <th></th>\n",
       "      <th>Age</th>\n",
       "      <th>Female</th>\n",
       "      <th>Education</th>\n",
       "      <th>Neuroticism</th>\n",
       "      <th>Extraversion</th>\n",
       "      <th>Openness</th>\n",
       "      <th>Agreeableness</th>\n",
       "      <th>Conscientiousness</th>\n",
       "      <th>Impulsivity</th>\n",
       "      <th>SensationSeeking</th>\n",
       "    </tr>\n",
       "    <tr>\n",
       "      <th>UsedIllegalDrug</th>\n",
       "      <th></th>\n",
       "      <th></th>\n",
       "      <th></th>\n",
       "      <th></th>\n",
       "      <th></th>\n",
       "      <th></th>\n",
       "      <th></th>\n",
       "      <th></th>\n",
       "      <th></th>\n",
       "      <th></th>\n",
       "    </tr>\n",
       "  </thead>\n",
       "  <tbody>\n",
       "    <tr>\n",
       "      <th>0</th>\n",
       "      <td>0.33</td>\n",
       "      <td>0.17</td>\n",
       "      <td>0.20</td>\n",
       "      <td>-0.15</td>\n",
       "      <td>0.03</td>\n",
       "      <td>-0.46</td>\n",
       "      <td>0.21</td>\n",
       "      <td>0.35</td>\n",
       "      <td>-0.38</td>\n",
       "      <td>-0.54</td>\n",
       "    </tr>\n",
       "    <tr>\n",
       "      <th>1</th>\n",
       "      <td>-0.13</td>\n",
       "      <td>-0.09</td>\n",
       "      <td>-0.12</td>\n",
       "      <td>0.08</td>\n",
       "      <td>-0.02</td>\n",
       "      <td>0.25</td>\n",
       "      <td>-0.12</td>\n",
       "      <td>-0.20</td>\n",
       "      <td>0.22</td>\n",
       "      <td>0.30</td>\n",
       "    </tr>\n",
       "  </tbody>\n",
       "</table>\n",
       "</div>"
      ],
      "text/plain": [
       "                  Age  Female  Education  Neuroticism  Extraversion  Openness  \\\n",
       "UsedIllegalDrug                                                                 \n",
       "0                0.33    0.17       0.20        -0.15          0.03     -0.46   \n",
       "1               -0.13   -0.09      -0.12         0.08         -0.02      0.25   \n",
       "\n",
       "                 Agreeableness  Conscientiousness  Impulsivity  \\\n",
       "UsedIllegalDrug                                                  \n",
       "0                         0.21               0.35        -0.38   \n",
       "1                        -0.12              -0.20         0.22   \n",
       "\n",
       "                 SensationSeeking  \n",
       "UsedIllegalDrug                    \n",
       "0                           -0.54  \n",
       "1                            0.30  "
      ]
     },
     "execution_count": 77,
     "metadata": {},
     "output_type": "execute_result"
    }
   ],
   "source": [
    "# Group by illegal drug use\n",
    "grouped = round(data_illegaldrugs.groupby('UsedIllegalDrug').mean(), 2)\n",
    "grouped"
   ]
  },
  {
   "cell_type": "code",
   "execution_count": 78,
   "metadata": {},
   "outputs": [
    {
     "data": {
      "text/plain": [
       "SensationSeeking    -0.84\n",
       "Openness            -0.71\n",
       "Impulsivity         -0.60\n",
       "Neuroticism         -0.23\n",
       "Extraversion         0.05\n",
       "Female               0.26\n",
       "Education            0.32\n",
       "Agreeableness        0.33\n",
       "Age                  0.46\n",
       "Conscientiousness    0.55\n",
       "dtype: float64"
      ]
     },
     "execution_count": 78,
     "metadata": {},
     "output_type": "execute_result"
    }
   ],
   "source": [
    "# Calculate largest differences in features between groups\n",
    "difference = grouped.iloc[0] - grouped.iloc[1]\n",
    "difference.sort_values()\n",
    "# Non-users are less sensation seeking, more consciousness, etc."
   ]
  },
  {
   "cell_type": "code",
   "execution_count": 79,
   "metadata": {},
   "outputs": [
    {
     "data": {
      "text/html": [
       "<div>\n",
       "<style scoped>\n",
       "    .dataframe tbody tr th:only-of-type {\n",
       "        vertical-align: middle;\n",
       "    }\n",
       "\n",
       "    .dataframe tbody tr th {\n",
       "        vertical-align: top;\n",
       "    }\n",
       "\n",
       "    .dataframe thead th {\n",
       "        text-align: right;\n",
       "    }\n",
       "</style>\n",
       "<table border=\"1\" class=\"dataframe\">\n",
       "  <thead>\n",
       "    <tr style=\"text-align: right;\">\n",
       "      <th></th>\n",
       "      <th>Age</th>\n",
       "      <th>Education</th>\n",
       "      <th>Neuroticism</th>\n",
       "      <th>Extraversion</th>\n",
       "      <th>Openness</th>\n",
       "      <th>Agreeableness</th>\n",
       "      <th>Conscientiousness</th>\n",
       "      <th>Impulsivity</th>\n",
       "      <th>SensationSeeking</th>\n",
       "      <th>UsedIllegalDrug</th>\n",
       "    </tr>\n",
       "    <tr>\n",
       "      <th>Female</th>\n",
       "      <th></th>\n",
       "      <th></th>\n",
       "      <th></th>\n",
       "      <th></th>\n",
       "      <th></th>\n",
       "      <th></th>\n",
       "      <th></th>\n",
       "      <th></th>\n",
       "      <th></th>\n",
       "      <th></th>\n",
       "    </tr>\n",
       "  </thead>\n",
       "  <tbody>\n",
       "    <tr>\n",
       "      <th>-0.48246</th>\n",
       "      <td>-0.06</td>\n",
       "      <td>-0.19</td>\n",
       "      <td>-0.07</td>\n",
       "      <td>-0.06</td>\n",
       "      <td>0.13</td>\n",
       "      <td>-0.22</td>\n",
       "      <td>-0.18</td>\n",
       "      <td>0.17</td>\n",
       "      <td>0.23</td>\n",
       "      <td>0.76</td>\n",
       "    </tr>\n",
       "    <tr>\n",
       "      <th>0.48246</th>\n",
       "      <td>0.13</td>\n",
       "      <td>0.19</td>\n",
       "      <td>0.07</td>\n",
       "      <td>0.06</td>\n",
       "      <td>-0.14</td>\n",
       "      <td>0.22</td>\n",
       "      <td>0.18</td>\n",
       "      <td>-0.16</td>\n",
       "      <td>-0.24</td>\n",
       "      <td>0.51</td>\n",
       "    </tr>\n",
       "  </tbody>\n",
       "</table>\n",
       "</div>"
      ],
      "text/plain": [
       "           Age  Education  Neuroticism  Extraversion  Openness  Agreeableness  \\\n",
       "Female                                                                          \n",
       "-0.48246 -0.06      -0.19        -0.07         -0.06      0.13          -0.22   \n",
       " 0.48246  0.13       0.19         0.07          0.06     -0.14           0.22   \n",
       "\n",
       "          Conscientiousness  Impulsivity  SensationSeeking  UsedIllegalDrug  \n",
       "Female                                                                       \n",
       "-0.48246              -0.18         0.17              0.23             0.76  \n",
       " 0.48246               0.18        -0.16             -0.24             0.51  "
      ]
     },
     "execution_count": 79,
     "metadata": {},
     "output_type": "execute_result"
    }
   ],
   "source": [
    "# Group by gender\n",
    "grouped = round(data_illegaldrugs.groupby('Female').mean(), 2)\n",
    "grouped"
   ]
  },
  {
   "cell_type": "code",
   "execution_count": 80,
   "metadata": {},
   "outputs": [
    {
     "data": {
      "text/plain": [
       "Agreeableness       -0.44\n",
       "Education           -0.38\n",
       "Conscientiousness   -0.36\n",
       "Age                 -0.19\n",
       "Neuroticism         -0.14\n",
       "Extraversion        -0.12\n",
       "UsedIllegalDrug      0.25\n",
       "Openness             0.27\n",
       "Impulsivity          0.33\n",
       "SensationSeeking     0.47\n",
       "dtype: float64"
      ]
     },
     "execution_count": 80,
     "metadata": {},
     "output_type": "execute_result"
    }
   ],
   "source": [
    "# Calculate largest differences in features between groups\n",
    "difference = grouped.iloc[0] - grouped.iloc[1]\n",
    "difference.sort_values()\n",
    "# Men are less agreeable, less educated, more impulsive, more sensation seeking, etc."
   ]
  },
  {
   "cell_type": "code",
   "execution_count": 81,
   "metadata": {},
   "outputs": [],
   "source": [
    "# Separate features from target\n",
    "X = data_illegaldrugs.drop('UsedIllegalDrug', axis = 1)\n",
    "y = data_illegaldrugs['UsedIllegalDrug']"
   ]
  },
  {
   "cell_type": "code",
   "execution_count": 82,
   "metadata": {},
   "outputs": [
    {
     "data": {
      "text/html": [
       "<div>\n",
       "<style scoped>\n",
       "    .dataframe tbody tr th:only-of-type {\n",
       "        vertical-align: middle;\n",
       "    }\n",
       "\n",
       "    .dataframe tbody tr th {\n",
       "        vertical-align: top;\n",
       "    }\n",
       "\n",
       "    .dataframe thead th {\n",
       "        text-align: right;\n",
       "    }\n",
       "</style>\n",
       "<table border=\"1\" class=\"dataframe\">\n",
       "  <thead>\n",
       "    <tr style=\"text-align: right;\">\n",
       "      <th></th>\n",
       "      <th>Features</th>\n",
       "      <th>VIF</th>\n",
       "    </tr>\n",
       "  </thead>\n",
       "  <tbody>\n",
       "    <tr>\n",
       "      <th>9</th>\n",
       "      <td>SensationSeeking</td>\n",
       "      <td>2.1</td>\n",
       "    </tr>\n",
       "    <tr>\n",
       "      <th>8</th>\n",
       "      <td>Impulsivity</td>\n",
       "      <td>1.8</td>\n",
       "    </tr>\n",
       "    <tr>\n",
       "      <th>3</th>\n",
       "      <td>Neuroticism</td>\n",
       "      <td>1.5</td>\n",
       "    </tr>\n",
       "    <tr>\n",
       "      <th>4</th>\n",
       "      <td>Extraversion</td>\n",
       "      <td>1.5</td>\n",
       "    </tr>\n",
       "    <tr>\n",
       "      <th>7</th>\n",
       "      <td>Conscientiousness</td>\n",
       "      <td>1.5</td>\n",
       "    </tr>\n",
       "    <tr>\n",
       "      <th>5</th>\n",
       "      <td>Openness</td>\n",
       "      <td>1.3</td>\n",
       "    </tr>\n",
       "    <tr>\n",
       "      <th>1</th>\n",
       "      <td>Female</td>\n",
       "      <td>1.2</td>\n",
       "    </tr>\n",
       "    <tr>\n",
       "      <th>6</th>\n",
       "      <td>Agreeableness</td>\n",
       "      <td>1.2</td>\n",
       "    </tr>\n",
       "    <tr>\n",
       "      <th>2</th>\n",
       "      <td>Education</td>\n",
       "      <td>1.1</td>\n",
       "    </tr>\n",
       "  </tbody>\n",
       "</table>\n",
       "</div>"
      ],
      "text/plain": [
       "            Features  VIF\n",
       "9   SensationSeeking  2.1\n",
       "8        Impulsivity  1.8\n",
       "3        Neuroticism  1.5\n",
       "4       Extraversion  1.5\n",
       "7  Conscientiousness  1.5\n",
       "5           Openness  1.3\n",
       "1             Female  1.2\n",
       "6      Agreeableness  1.2\n",
       "2          Education  1.1"
      ]
     },
     "execution_count": 82,
     "metadata": {},
     "output_type": "execute_result"
    }
   ],
   "source": [
    "# Examine multicollinearity\n",
    "from statsmodels.stats.outliers_influence import variance_inflation_factor\n",
    "vif = pd.DataFrame(columns = ['Features', 'VIF'])\n",
    "vif['Features'] = X.columns\n",
    "for i in range(X.shape[1]):\n",
    "    vif.loc[i, 'VIF'] = variance_inflation_factor(X.values, i).round(1)\n",
    "# Remove constant row\n",
    "vif = vif[1:]\n",
    "# Sort by VIF\n",
    "vif.sort_values('VIF', ascending = False)\n",
    "# No VIF > 5"
   ]
  },
  {
   "cell_type": "code",
   "execution_count": 83,
   "metadata": {},
   "outputs": [
    {
     "name": "stdout",
     "output_type": "stream",
     "text": [
      "(1501, 10)\n",
      "(376, 10)\n"
     ]
    }
   ],
   "source": [
    "# Train test split\n",
    "from sklearn.model_selection import train_test_split\n",
    "X_train, X_test, y_train, y_test = train_test_split(X, y, test_size = 0.2, random_state = 20201011)\n",
    "# X_train, X_test, y_train, y_test = train_test_split(X, y, test_size = 0.2, random_state = 20201011, stratify = y)\n",
    "print(X_train.shape)\n",
    "print(X_test.shape)"
   ]
  },
  {
   "cell_type": "markdown",
   "metadata": {},
   "source": [
    "Note: Did not stratify train_test_split for my first analysis, however, having the same proportion of classes in the test vs. training dataset (i.e. stratification) appears to increase test accuracy."
   ]
  },
  {
   "cell_type": "markdown",
   "metadata": {},
   "source": [
    "### Methods 2.1 Logistic regression"
   ]
  },
  {
   "cell_type": "code",
   "execution_count": 84,
   "metadata": {},
   "outputs": [],
   "source": [
    "# Run logistic regression\n",
    "from sklearn.linear_model import LogisticRegression\n",
    "model = LogisticRegression() # Default settings = lasso regularization, C = 1, max 100 iterations\n",
    "model.fit(X_train, y_train)\n",
    "columns = X_train.columns\n",
    "coefs = model.coef_.round(2)"
   ]
  },
  {
   "cell_type": "code",
   "execution_count": 85,
   "metadata": {},
   "outputs": [
    {
     "data": {
      "text/html": [
       "<div>\n",
       "<style scoped>\n",
       "    .dataframe tbody tr th:only-of-type {\n",
       "        vertical-align: middle;\n",
       "    }\n",
       "\n",
       "    .dataframe tbody tr th {\n",
       "        vertical-align: top;\n",
       "    }\n",
       "\n",
       "    .dataframe thead th {\n",
       "        text-align: right;\n",
       "    }\n",
       "</style>\n",
       "<table border=\"1\" class=\"dataframe\">\n",
       "  <thead>\n",
       "    <tr style=\"text-align: right;\">\n",
       "      <th></th>\n",
       "      <th>Feature</th>\n",
       "      <th>Beta</th>\n",
       "    </tr>\n",
       "  </thead>\n",
       "  <tbody>\n",
       "    <tr>\n",
       "      <th>1</th>\n",
       "      <td>Female</td>\n",
       "      <td>-0.53</td>\n",
       "    </tr>\n",
       "    <tr>\n",
       "      <th>7</th>\n",
       "      <td>Conscientiousness</td>\n",
       "      <td>-0.31</td>\n",
       "    </tr>\n",
       "    <tr>\n",
       "      <th>2</th>\n",
       "      <td>Education</td>\n",
       "      <td>-0.24</td>\n",
       "    </tr>\n",
       "    <tr>\n",
       "      <th>0</th>\n",
       "      <td>Age</td>\n",
       "      <td>-0.23</td>\n",
       "    </tr>\n",
       "    <tr>\n",
       "      <th>4</th>\n",
       "      <td>Extraversion</td>\n",
       "      <td>-0.21</td>\n",
       "    </tr>\n",
       "    <tr>\n",
       "      <th>6</th>\n",
       "      <td>Agreeableness</td>\n",
       "      <td>-0.09</td>\n",
       "    </tr>\n",
       "    <tr>\n",
       "      <th>3</th>\n",
       "      <td>Neuroticism</td>\n",
       "      <td>-0.03</td>\n",
       "    </tr>\n",
       "    <tr>\n",
       "      <th>8</th>\n",
       "      <td>Impulsivity</td>\n",
       "      <td>-0.03</td>\n",
       "    </tr>\n",
       "    <tr>\n",
       "      <th>5</th>\n",
       "      <td>Openness</td>\n",
       "      <td>0.68</td>\n",
       "    </tr>\n",
       "    <tr>\n",
       "      <th>9</th>\n",
       "      <td>SensationSeeking</td>\n",
       "      <td>0.72</td>\n",
       "    </tr>\n",
       "  </tbody>\n",
       "</table>\n",
       "</div>"
      ],
      "text/plain": [
       "             Feature  Beta\n",
       "1             Female -0.53\n",
       "7  Conscientiousness -0.31\n",
       "2          Education -0.24\n",
       "0                Age -0.23\n",
       "4       Extraversion -0.21\n",
       "6      Agreeableness -0.09\n",
       "3        Neuroticism -0.03\n",
       "8        Impulsivity -0.03\n",
       "5           Openness  0.68\n",
       "9   SensationSeeking  0.72"
      ]
     },
     "execution_count": 85,
     "metadata": {},
     "output_type": "execute_result"
    }
   ],
   "source": [
    "# Sort features by beta value\n",
    "feature_coefs = pd.DataFrame(columns = ['Feature', 'Beta'])\n",
    "feature_coefs['Feature'] = columns\n",
    "feature_coefs['Beta'] = coefs[0]\n",
    "feature_coefs.sort_values('Beta')"
   ]
  },
  {
   "cell_type": "code",
   "execution_count": 86,
   "metadata": {},
   "outputs": [
    {
     "data": {
      "image/png": "[encoded data removed]",
      "text/plain": [
       "<Figure size 432x288 with 1 Axes>"
      ]
     },
     "metadata": {
      "needs_background": "light"
     },
     "output_type": "display_data"
    }
   ],
   "source": [
    "# Plot illegal drug use vs. largest betas\n",
    "import seaborn as sns\n",
    "sns.scatterplot(x = \"Openness\", y = \"SensationSeeking\", data = data, hue = 'UsedIllegalDrug')\n",
    "plt.savefig('Images/openness_ss.png')"
   ]
  },
  {
   "cell_type": "code",
   "execution_count": 87,
   "metadata": {},
   "outputs": [
    {
     "data": {
      "image/png": "[encoded data removed]",
      "text/plain": [
       "<Figure size 432x288 with 1 Axes>"
      ]
     },
     "metadata": {
      "needs_background": "light"
     },
     "output_type": "display_data"
    }
   ],
   "source": [
    "# Plot illegal drug use vs. smallest betas\n",
    "sns.scatterplot(x = \"Female\", y = \"Conscientiousness\", data = data, hue = 'UsedIllegalDrug')\n",
    "plt.savefig('Images/female_c.png')"
   ]
  },
  {
   "cell_type": "code",
   "execution_count": 88,
   "metadata": {},
   "outputs": [
    {
     "data": {
      "image/png": "[encoded data removed]",
      "text/plain": [
       "<Figure size 720x720 with 2 Axes>"
      ]
     },
     "metadata": {
      "needs_background": "light"
     },
     "output_type": "display_data"
    }
   ],
   "source": [
    "# Plot confusion matrix\n",
    "from sklearn import metrics\n",
    "y_pred = model.predict(X_test)\n",
    "confusion_matrix = metrics.confusion_matrix(y_test, y_pred)\n",
    "plt.figure(figsize = (10,10))\n",
    "sns.heatmap(confusion_matrix, annot = True, fmt = \".0f\", square = True, annot_kws={\"fontsize\": 50});\n",
    "plt.ylabel('Actual label', fontsize = 20);\n",
    "plt.xlabel('Predicted label', fontsize = 20);\n",
    "score = round(metrics.accuracy_score(y_test, y_pred),2)\n",
    "title = 'Accuracy Score: {0}'.format(score)\n",
    "plt.title(title, size = 20);\n",
    "plt.savefig('Images/cm_logreg.png')\n",
    "plt.show()"
   ]
  },
  {
   "cell_type": "code",
   "execution_count": 89,
   "metadata": {},
   "outputs": [
    {
     "name": "stdout",
     "output_type": "stream",
     "text": [
      "0.78\n",
      "0.86\n",
      "0.82\n"
     ]
    }
   ],
   "source": [
    "from sklearn.metrics import f1_score, precision_score, recall_score\n",
    "print(precision_score(y_test, y_pred).round(2))\n",
    "print(recall_score(y_test, y_pred).round(2))\n",
    "print(f1_score(y_test, y_pred).round(2))\n",
    "# Accuracy is close to precision and recall"
   ]
  },
  {
   "cell_type": "markdown",
   "metadata": {},
   "source": [
    "### Methods 2.2 Decision tree classifier"
   ]
  },
  {
   "cell_type": "code",
   "execution_count": 90,
   "metadata": {},
   "outputs": [
    {
     "data": {
      "image/png": "[encoded data removed]",
      "text/plain": [
       "<Figure size 720x720 with 2 Axes>"
      ]
     },
     "metadata": {
      "needs_background": "light"
     },
     "output_type": "display_data"
    }
   ],
   "source": [
    "# Run DecisionTreeClassifier with max_depth = 3\n",
    "from sklearn import tree\n",
    "model = tree.DecisionTreeClassifier(max_depth = 3)\n",
    "model.fit(X_train, y_train)\n",
    "y_pred = model.predict(X_test)\n",
    "confusion_matrix = metrics.confusion_matrix(y_test, y_pred)\n",
    "plt.figure(figsize = (10,10))\n",
    "sns.heatmap(confusion_matrix, annot = True, fmt = \".0f\", square = True, annot_kws={\"fontsize\": 50});\n",
    "plt.ylabel('Actual label', fontsize = 20);\n",
    "plt.xlabel('Predicted label', fontsize = 20);\n",
    "score = round(metrics.accuracy_score(y_test, y_pred),2)\n",
    "title = 'Accuracy Score: {0}'.format(score)\n",
    "plt.title(title, size = 20);\n",
    "plt.savefig('Images/cm_tree.png')\n",
    "plt.show()"
   ]
  },
  {
   "cell_type": "code",
   "execution_count": 91,
   "metadata": {},
   "outputs": [
    {
     "name": "stdout",
     "output_type": "stream",
     "text": [
      "0.74\n",
      "0.85\n",
      "0.79\n"
     ]
    }
   ],
   "source": [
    "print(precision_score(y_test, y_pred).round(2))\n",
    "print(recall_score(y_test, y_pred).round(2))\n",
    "print(f1_score(y_test, y_pred).round(2))\n",
    "# Accuracy is close to precision and recall"
   ]
  },
  {
   "cell_type": "code",
   "execution_count": 27,
   "metadata": {},
   "outputs": [
    {
     "data": {
      "image/png": "[encoded data removed]",
      "text/plain": [
       "<Figure size 1440x360 with 1 Axes>"
      ]
     },
     "metadata": {
      "needs_background": "light"
     },
     "output_type": "display_data"
    }
   ],
   "source": [
    "# Plot tree\n",
    "fig = plt.figure(figsize=(20, 5))\n",
    "_ = tree.plot_tree(model, \n",
    "                   feature_names = X.columns,  \n",
    "                   class_names = ['Non-user', 'User'],\n",
    "                   filled = True)\n",
    "plt.savefig('Images/tree.png')"
   ]
  },
  {
   "cell_type": "markdown",
   "metadata": {},
   "source": [
    "### Results and discussion\n",
    "Of the illegal drugs, mushrooms and ecstasy were the most used, heroin and crack were the least used. 64% of participants had used at least one illegal drug. The biggest differences between the group of participants who had used an illegal drug and the group who had never used an illegal drug were that users scored higher on sensation seeking and openness while non-users scored higher on conscientiousness and were older. \n",
    "\n",
    "However, when modeled as a multiple logistic regression, gender (being female) was the largest predictor of being a non-user. In the scatterplots of the largest positive and negative betas, users concentrate in the top right corner of high sensation seeking and openness; in the conscientiousness x gender plot, it appears that males of all conscientiousness levels have used an illegal drug, while there is a cluster of high conscientiousness females who have never used an illegal drug. This may suggest an interaction effect between the conscientiousness and gender features. The logistic regression model predicted illegal drug use with 76% accuracy in the test set, with more false positives for being a user (n = 56) than false negatives for being a non-user (n = 33). \n",
    "\n",
    "The decision tree classifier model was less successful than the logistic regression model with 72% accuracy in the test set. The tree created by the classifier demonstrated that a branch of lower sensation seeking, lower openness, and higher conscientiousness was the most predictive of never using an illegal drug. All other leaves classified an observation as a user."
   ]
  },
  {
   "cell_type": "markdown",
   "metadata": {},
   "source": [
    "### Conclusion and summary\n",
    "Overall, the results of this project appear to align with published literature and our intuitions of how demographics and personality would impact illegal drug use. Individuals who use an illegal drug in their lifetime tend to be male, score higher on sensation seeking and openness, and lower on conscientiousness."
   ]
  },
  {
   "cell_type": "markdown",
   "metadata": {},
   "source": [
    "### Limitations and later work\n",
    "Given the extremely high usage (~15%) of drugs like heroin and crack, it is clear that the participants of this survey are not representative of the general population. The paper reports that the participants were largely English-speaking, highly educated, and white. Also, because there is no data on the life outcomes of the participants, we cannot conclude that the usage of these illegal drugs is deleterious, and therefore, we cannot conclude that having the associated personality traits is undesirable. \n",
    "\n",
    "In later work with this dataset, I am interested in looking at the drugs individually, and also in groupings other than just illegal drugs. For instance, we know that while mushrooms, ecstasy, cocaine, LSD, ketamine, heroin, and crack are all illegal, it is heroin and crack that are known to be strongly associated with deleterious life outcomes. \n",
    "\n",
    "Below, you will find the preliminary results of an analysis of the totals, percentages, accuracies, intercepts, minimum, and maximum betas for multiple logistic regression models run on each drug individually, with the target variable being \"Used within the last year.\" It is important to note here that the high accuracy metrics for crack and chocolate are not very meaningful, since very few participants and almost all participants used crack and chocolate within the last year, respectively. In these cases of class inbalance, most of the work is accomplished by the intercept value. Measures more sophisticated than accuracy must then be used to evaluate model performance. However, in this preliminary analysis, you can already see that there is differential association of certain drugs with openness, sensation seeking, neuroticism, impulsivity, etc."
   ]
  },
  {
   "cell_type": "code",
   "execution_count": 92,
   "metadata": {},
   "outputs": [],
   "source": [
    "# Read csv\n",
    "import pandas as pd\n",
    "csv = pd.read_csv('Data/Drugs.csv', header = None)\n",
    "# Name columns\n",
    "columns = ['Age', 'Female', 'Education', 'Country', 'Ethnicity', \\\n",
    "           'Neuroticism', 'Extraversion', 'Openness', 'Agreeableness', 'Conscientiousness', \\\n",
    "           'Impulsivity', 'SensationSeeking', \\\n",
    "           'Alcohol', 'Amphetamines', 'AmylNitrite', 'Benzodiazepines', 'Caffeine', 'Cannabis', 'Chocolate', \\\n",
    "           'Cocaine', 'Crack', 'Ecstasy', 'Heroin', 'Ketamine', 'LegalHighs', 'LSD', 'Methadone', 'Mushrooms', \\\n",
    "           'Nicotine', 'Semer', 'VolatileSubstances']\n",
    "# Create DataFrame\n",
    "data = pd.DataFrame(data = csv)\n",
    "data.columns = columns\n",
    "# Drop multi-category, non-ordinal features\n",
    "data = data.drop(['Country', 'Ethnicity'], axis = 1)\n",
    "# Check value count for Semer, a fictitious drug included to weed out participants responding improperly\n",
    "# Remove these rows\n",
    "data = data[data['Semer'] == 0]\n",
    "# Drop semer column\n",
    "data = data.drop('Semer', axis = 1)"
   ]
  },
  {
   "cell_type": "code",
   "execution_count": 105,
   "metadata": {},
   "outputs": [],
   "source": [
    "# For loop calculations for each drug\n",
    "drug_name = []\n",
    "total = []\n",
    "percent = []\n",
    "accuracy = []\n",
    "precision = []\n",
    "recall = []\n",
    "f1 = []\n",
    "intercept = []\n",
    "min_beta_name = []\n",
    "min_beta = []\n",
    "max_beta_name = []\n",
    "max_beta = []\n",
    "for i, drug in enumerate(drug_columns):\n",
    "    drug_df = data[data.columns[i + 10]]\n",
    "    drug_df['UsedDrug'] = drug_df > 2 # yearly vs. non-yearly users\n",
    "    # Add column to main data\n",
    "    data['UsedDrug'] = drug_df['UsedDrug']\n",
    "    # Drop columns not of interest\n",
    "    data_drug = data[['Female', 'Education', 'Neuroticism', 'Extraversion', 'Openness', 'Agreeableness', \\\n",
    "                'Conscientiousness', 'Impulsivity', 'SensationSeeking', 'UsedDrug']]\n",
    "    # Separate features from target\n",
    "    X = data_drug.drop('UsedDrug', axis = 1)\n",
    "    y = data_drug['UsedDrug']\n",
    "    # Train test split\n",
    "    from sklearn.model_selection import train_test_split\n",
    "    X_train, X_test, y_train, y_test = train_test_split(X, y, test_size = 0.2, random_state = 20201011)\n",
    "    # Run logistic regression\n",
    "    from sklearn.linear_model import LogisticRegression\n",
    "    model = LogisticRegression()\n",
    "    model.fit(X_train, y_train)\n",
    "    y_pred = model.predict(X_test)\n",
    "    columns = X_train.columns\n",
    "    coefs = model.coef_.round(2)\n",
    "    # Sort features by beta value\n",
    "    feature_coefs = pd.DataFrame(columns = ['Feature', 'Beta'])\n",
    "    feature_coefs['Feature'] = columns\n",
    "    feature_coefs['Beta'] = coefs[0]\n",
    "    drug_name.append(drug)\n",
    "    total.append(sum(drug_df['UsedDrug']))\n",
    "    percent.append(round(sum(drug_df['UsedDrug'])/len(drug_df['UsedDrug']), 2))\n",
    "    accuracy.append(round(metrics.accuracy_score(y_test, y_pred),2))\n",
    "    precision.append(precision_score(y_test, y_pred, zero_division = 0).round(2))\n",
    "    recall.append(recall_score(y_test, y_pred).round(2))\n",
    "    f1.append(f1_score(y_test, y_pred).round(2))\n",
    "    intercept.append(round(model.intercept_[0],2))\n",
    "    min_beta_name.append(feature_coefs.sort_values('Beta').iloc[0][0])\n",
    "    min_beta.append(feature_coefs.sort_values('Beta').iloc[0][1])\n",
    "    max_beta_name.append(feature_coefs.sort_values('Beta', ascending = False).iloc[0][0])\n",
    "    max_beta.append(feature_coefs.sort_values('Beta', ascending = False).iloc[0][1])"
   ]
  },
  {
   "cell_type": "code",
   "execution_count": 108,
   "metadata": {},
   "outputs": [
    {
     "data": {
      "text/html": [
       "<div>\n",
       "<style scoped>\n",
       "    .dataframe tbody tr th:only-of-type {\n",
       "        vertical-align: middle;\n",
       "    }\n",
       "\n",
       "    .dataframe tbody tr th {\n",
       "        vertical-align: top;\n",
       "    }\n",
       "\n",
       "    .dataframe thead th {\n",
       "        text-align: right;\n",
       "    }\n",
       "</style>\n",
       "<table border=\"1\" class=\"dataframe\">\n",
       "  <thead>\n",
       "    <tr style=\"text-align: right;\">\n",
       "      <th></th>\n",
       "      <th>Drug</th>\n",
       "      <th>Total</th>\n",
       "      <th>Percent</th>\n",
       "      <th>Accuracy</th>\n",
       "      <th>Precision</th>\n",
       "      <th>Recall</th>\n",
       "      <th>F1 Score</th>\n",
       "      <th>Intercept</th>\n",
       "      <th>Min Beta Name</th>\n",
       "      <th>Min Beta</th>\n",
       "      <th>Max Beta Name</th>\n",
       "      <th>Max Beta</th>\n",
       "    </tr>\n",
       "  </thead>\n",
       "  <tbody>\n",
       "    <tr>\n",
       "      <th>8</th>\n",
       "      <td>Crack</td>\n",
       "      <td>79</td>\n",
       "      <td>0.04</td>\n",
       "      <td>0.98</td>\n",
       "      <td>0.00</td>\n",
       "      <td>0.00</td>\n",
       "      <td>0.00</td>\n",
       "      <td>-3.64</td>\n",
       "      <td>Female</td>\n",
       "      <td>-1.31</td>\n",
       "      <td>Impulsivity</td>\n",
       "      <td>0.37</td>\n",
       "    </tr>\n",
       "    <tr>\n",
       "      <th>11</th>\n",
       "      <td>Ketamine</td>\n",
       "      <td>206</td>\n",
       "      <td>0.11</td>\n",
       "      <td>0.87</td>\n",
       "      <td>0.00</td>\n",
       "      <td>0.00</td>\n",
       "      <td>0.00</td>\n",
       "      <td>-2.44</td>\n",
       "      <td>Female</td>\n",
       "      <td>-0.79</td>\n",
       "      <td>SensationSeeking</td>\n",
       "      <td>0.37</td>\n",
       "    </tr>\n",
       "    <tr>\n",
       "      <th>10</th>\n",
       "      <td>Heroin</td>\n",
       "      <td>118</td>\n",
       "      <td>0.06</td>\n",
       "      <td>0.97</td>\n",
       "      <td>0.00</td>\n",
       "      <td>0.00</td>\n",
       "      <td>0.00</td>\n",
       "      <td>-3.07</td>\n",
       "      <td>Female</td>\n",
       "      <td>-0.62</td>\n",
       "      <td>SensationSeeking</td>\n",
       "      <td>0.47</td>\n",
       "    </tr>\n",
       "    <tr>\n",
       "      <th>17</th>\n",
       "      <td>VolatileSubstances</td>\n",
       "      <td>93</td>\n",
       "      <td>0.05</td>\n",
       "      <td>0.95</td>\n",
       "      <td>0.00</td>\n",
       "      <td>0.00</td>\n",
       "      <td>0.00</td>\n",
       "      <td>-3.40</td>\n",
       "      <td>Female</td>\n",
       "      <td>-0.42</td>\n",
       "      <td>SensationSeeking</td>\n",
       "      <td>0.59</td>\n",
       "    </tr>\n",
       "    <tr>\n",
       "      <th>2</th>\n",
       "      <td>AmylNitrite</td>\n",
       "      <td>132</td>\n",
       "      <td>0.07</td>\n",
       "      <td>0.93</td>\n",
       "      <td>0.00</td>\n",
       "      <td>0.00</td>\n",
       "      <td>0.00</td>\n",
       "      <td>-2.89</td>\n",
       "      <td>Female</td>\n",
       "      <td>-0.84</td>\n",
       "      <td>SensationSeeking</td>\n",
       "      <td>0.43</td>\n",
       "    </tr>\n",
       "    <tr>\n",
       "      <th>14</th>\n",
       "      <td>Methadone</td>\n",
       "      <td>319</td>\n",
       "      <td>0.17</td>\n",
       "      <td>0.82</td>\n",
       "      <td>0.67</td>\n",
       "      <td>0.06</td>\n",
       "      <td>0.11</td>\n",
       "      <td>-1.99</td>\n",
       "      <td>Female</td>\n",
       "      <td>-0.70</td>\n",
       "      <td>Openness</td>\n",
       "      <td>0.49</td>\n",
       "    </tr>\n",
       "    <tr>\n",
       "      <th>7</th>\n",
       "      <td>Cocaine</td>\n",
       "      <td>414</td>\n",
       "      <td>0.22</td>\n",
       "      <td>0.77</td>\n",
       "      <td>0.45</td>\n",
       "      <td>0.12</td>\n",
       "      <td>0.19</td>\n",
       "      <td>-1.52</td>\n",
       "      <td>Female</td>\n",
       "      <td>-0.53</td>\n",
       "      <td>SensationSeeking</td>\n",
       "      <td>0.55</td>\n",
       "    </tr>\n",
       "    <tr>\n",
       "      <th>1</th>\n",
       "      <td>Amphetamines</td>\n",
       "      <td>433</td>\n",
       "      <td>0.23</td>\n",
       "      <td>0.74</td>\n",
       "      <td>0.52</td>\n",
       "      <td>0.14</td>\n",
       "      <td>0.22</td>\n",
       "      <td>-1.61</td>\n",
       "      <td>Female</td>\n",
       "      <td>-0.70</td>\n",
       "      <td>SensationSeeking</td>\n",
       "      <td>0.49</td>\n",
       "    </tr>\n",
       "    <tr>\n",
       "      <th>3</th>\n",
       "      <td>Benzodiazepines</td>\n",
       "      <td>532</td>\n",
       "      <td>0.28</td>\n",
       "      <td>0.72</td>\n",
       "      <td>0.57</td>\n",
       "      <td>0.23</td>\n",
       "      <td>0.32</td>\n",
       "      <td>-1.14</td>\n",
       "      <td>Female</td>\n",
       "      <td>-0.36</td>\n",
       "      <td>Neuroticism</td>\n",
       "      <td>0.44</td>\n",
       "    </tr>\n",
       "    <tr>\n",
       "      <th>13</th>\n",
       "      <td>LSD</td>\n",
       "      <td>376</td>\n",
       "      <td>0.20</td>\n",
       "      <td>0.81</td>\n",
       "      <td>0.62</td>\n",
       "      <td>0.25</td>\n",
       "      <td>0.36</td>\n",
       "      <td>-1.86</td>\n",
       "      <td>Female</td>\n",
       "      <td>-0.90</td>\n",
       "      <td>Openness</td>\n",
       "      <td>0.79</td>\n",
       "    </tr>\n",
       "    <tr>\n",
       "      <th>15</th>\n",
       "      <td>Mushrooms</td>\n",
       "      <td>428</td>\n",
       "      <td>0.23</td>\n",
       "      <td>0.77</td>\n",
       "      <td>0.63</td>\n",
       "      <td>0.25</td>\n",
       "      <td>0.36</td>\n",
       "      <td>-1.67</td>\n",
       "      <td>Female</td>\n",
       "      <td>-0.80</td>\n",
       "      <td>Openness</td>\n",
       "      <td>0.75</td>\n",
       "    </tr>\n",
       "    <tr>\n",
       "      <th>9</th>\n",
       "      <td>Ecstasy</td>\n",
       "      <td>513</td>\n",
       "      <td>0.27</td>\n",
       "      <td>0.75</td>\n",
       "      <td>0.62</td>\n",
       "      <td>0.32</td>\n",
       "      <td>0.42</td>\n",
       "      <td>-1.24</td>\n",
       "      <td>Female</td>\n",
       "      <td>-0.60</td>\n",
       "      <td>SensationSeeking</td>\n",
       "      <td>0.69</td>\n",
       "    </tr>\n",
       "    <tr>\n",
       "      <th>12</th>\n",
       "      <td>LegalHighs</td>\n",
       "      <td>561</td>\n",
       "      <td>0.30</td>\n",
       "      <td>0.77</td>\n",
       "      <td>0.73</td>\n",
       "      <td>0.48</td>\n",
       "      <td>0.58</td>\n",
       "      <td>-1.22</td>\n",
       "      <td>Female</td>\n",
       "      <td>-0.89</td>\n",
       "      <td>SensationSeeking</td>\n",
       "      <td>0.76</td>\n",
       "    </tr>\n",
       "    <tr>\n",
       "      <th>16</th>\n",
       "      <td>Nicotine</td>\n",
       "      <td>1053</td>\n",
       "      <td>0.56</td>\n",
       "      <td>0.68</td>\n",
       "      <td>0.68</td>\n",
       "      <td>0.79</td>\n",
       "      <td>0.73</td>\n",
       "      <td>0.31</td>\n",
       "      <td>Female</td>\n",
       "      <td>-0.41</td>\n",
       "      <td>SensationSeeking</td>\n",
       "      <td>0.46</td>\n",
       "    </tr>\n",
       "    <tr>\n",
       "      <th>5</th>\n",
       "      <td>Cannabis</td>\n",
       "      <td>991</td>\n",
       "      <td>0.53</td>\n",
       "      <td>0.77</td>\n",
       "      <td>0.78</td>\n",
       "      <td>0.78</td>\n",
       "      <td>0.78</td>\n",
       "      <td>0.17</td>\n",
       "      <td>Female</td>\n",
       "      <td>-0.72</td>\n",
       "      <td>Openness</td>\n",
       "      <td>0.85</td>\n",
       "    </tr>\n",
       "    <tr>\n",
       "      <th>0</th>\n",
       "      <td>Alcohol</td>\n",
       "      <td>1742</td>\n",
       "      <td>0.93</td>\n",
       "      <td>0.89</td>\n",
       "      <td>0.89</td>\n",
       "      <td>1.00</td>\n",
       "      <td>0.94</td>\n",
       "      <td>2.81</td>\n",
       "      <td>Impulsivity</td>\n",
       "      <td>-0.28</td>\n",
       "      <td>SensationSeeking</td>\n",
       "      <td>0.57</td>\n",
       "    </tr>\n",
       "    <tr>\n",
       "      <th>4</th>\n",
       "      <td>Caffeine</td>\n",
       "      <td>1816</td>\n",
       "      <td>0.97</td>\n",
       "      <td>0.97</td>\n",
       "      <td>0.97</td>\n",
       "      <td>1.00</td>\n",
       "      <td>0.98</td>\n",
       "      <td>3.61</td>\n",
       "      <td>Conscientiousness</td>\n",
       "      <td>-0.43</td>\n",
       "      <td>SensationSeeking</td>\n",
       "      <td>0.36</td>\n",
       "    </tr>\n",
       "    <tr>\n",
       "      <th>6</th>\n",
       "      <td>Chocolate</td>\n",
       "      <td>1833</td>\n",
       "      <td>0.98</td>\n",
       "      <td>0.98</td>\n",
       "      <td>0.98</td>\n",
       "      <td>1.00</td>\n",
       "      <td>0.99</td>\n",
       "      <td>3.86</td>\n",
       "      <td>Conscientiousness</td>\n",
       "      <td>-0.41</td>\n",
       "      <td>Openness</td>\n",
       "      <td>0.26</td>\n",
       "    </tr>\n",
       "  </tbody>\n",
       "</table>\n",
       "</div>"
      ],
      "text/plain": [
       "                  Drug  Total  Percent  Accuracy  Precision  Recall  F1 Score  \\\n",
       "8                Crack     79     0.04      0.98       0.00    0.00      0.00   \n",
       "11            Ketamine    206     0.11      0.87       0.00    0.00      0.00   \n",
       "10              Heroin    118     0.06      0.97       0.00    0.00      0.00   \n",
       "17  VolatileSubstances     93     0.05      0.95       0.00    0.00      0.00   \n",
       "2          AmylNitrite    132     0.07      0.93       0.00    0.00      0.00   \n",
       "14           Methadone    319     0.17      0.82       0.67    0.06      0.11   \n",
       "7              Cocaine    414     0.22      0.77       0.45    0.12      0.19   \n",
       "1         Amphetamines    433     0.23      0.74       0.52    0.14      0.22   \n",
       "3      Benzodiazepines    532     0.28      0.72       0.57    0.23      0.32   \n",
       "13                 LSD    376     0.20      0.81       0.62    0.25      0.36   \n",
       "15           Mushrooms    428     0.23      0.77       0.63    0.25      0.36   \n",
       "9              Ecstasy    513     0.27      0.75       0.62    0.32      0.42   \n",
       "12          LegalHighs    561     0.30      0.77       0.73    0.48      0.58   \n",
       "16            Nicotine   1053     0.56      0.68       0.68    0.79      0.73   \n",
       "5             Cannabis    991     0.53      0.77       0.78    0.78      0.78   \n",
       "0              Alcohol   1742     0.93      0.89       0.89    1.00      0.94   \n",
       "4             Caffeine   1816     0.97      0.97       0.97    1.00      0.98   \n",
       "6            Chocolate   1833     0.98      0.98       0.98    1.00      0.99   \n",
       "\n",
       "    Intercept      Min Beta Name  Min Beta     Max Beta Name  Max Beta  \n",
       "8       -3.64             Female     -1.31       Impulsivity      0.37  \n",
       "11      -2.44             Female     -0.79  SensationSeeking      0.37  \n",
       "10      -3.07             Female     -0.62  SensationSeeking      0.47  \n",
       "17      -3.40             Female     -0.42  SensationSeeking      0.59  \n",
       "2       -2.89             Female     -0.84  SensationSeeking      0.43  \n",
       "14      -1.99             Female     -0.70          Openness      0.49  \n",
       "7       -1.52             Female     -0.53  SensationSeeking      0.55  \n",
       "1       -1.61             Female     -0.70  SensationSeeking      0.49  \n",
       "3       -1.14             Female     -0.36       Neuroticism      0.44  \n",
       "13      -1.86             Female     -0.90          Openness      0.79  \n",
       "15      -1.67             Female     -0.80          Openness      0.75  \n",
       "9       -1.24             Female     -0.60  SensationSeeking      0.69  \n",
       "12      -1.22             Female     -0.89  SensationSeeking      0.76  \n",
       "16       0.31             Female     -0.41  SensationSeeking      0.46  \n",
       "5        0.17             Female     -0.72          Openness      0.85  \n",
       "0        2.81        Impulsivity     -0.28  SensationSeeking      0.57  \n",
       "4        3.61  Conscientiousness     -0.43  SensationSeeking      0.36  \n",
       "6        3.86  Conscientiousness     -0.41          Openness      0.26  "
      ]
     },
     "execution_count": 108,
     "metadata": {},
     "output_type": "execute_result"
    }
   ],
   "source": [
    "# Create data frame\n",
    "results = pd.DataFrame({'Drug': drug_name, 'Total': total, 'Percent': percent,\n",
    "                        'Accuracy': accuracy, 'Precision': precision, 'Recall': recall, 'F1 Score': f1, \\\n",
    "                        'Intercept': intercept, \\\n",
    "                        'Min Beta Name': min_beta_name, 'Min Beta': min_beta, \\\n",
    "                        'Max Beta Name': max_beta_name, 'Max Beta': max_beta})\n",
    "results.sort_values('F1 Score')\n",
    "# Accuracy can be high though precision and recall are 0 because classification is totally driven by the intercept\n",
    "# Precision and recall are important when you care about true positions (e.g. crack, heroin) in cases of class inbalance\n",
    "# In opposite cases of class inbalance (user of interest > 90% of sample, e.g. alcohol), \n",
    "# you should care more about true negatives (e.g. correctly classifying Muslims as non-drinkers)\n",
    "# What if you don't model the intercept? LogisticRegression(fit_intercept = False)\n",
    "# Low precision = lots of false positives"
   ]
  }
 ],
 "metadata": {
  "kernelspec": {
   "display_name": "Python 3",
   "language": "python",
   "name": "python3"
  },
  "language_info": {
   "codemirror_mode": {
    "name": "ipython",
    "version": 3
   },
   "file_extension": ".py",
   "mimetype": "text/x-python",
   "name": "python",
   "nbconvert_exporter": "python",
   "pygments_lexer": "ipython3",
   "version": "3.8.3"
  }
 },
 "nbformat": 4,
 "nbformat_minor": 4
}
