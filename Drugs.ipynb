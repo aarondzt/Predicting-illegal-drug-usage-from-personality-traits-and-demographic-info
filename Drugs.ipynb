{
 "cells": [
  {
   "cell_type": "markdown",
   "metadata": {},
   "source": [
    "## Predicting illegal drug usage from personality traits and demographic info"
   ]
  },
  {
   "cell_type": "markdown",
   "metadata": {},
   "source": [
    "### Abstract\n",
    "Understanding the personality traits that are predictive of illegal drug usage is important for public health and guidence of policy-making. In [Fehrman et al.](https://arxiv.org/abs/1506.06297), the authors collect survey data on demographic factors, personality traits, and drug usage, and then run several machine learning models to analyze the traits that are predictive of the usage of individual and clusters of drugs. In this project, I focused on individuals who have used drugs that are widely classified as illegal (mushrooms, ecstasy, cocaine, LSD, ketamine, heroin, and crack) at least once. Very few people will take any one of these drugs in their lifetime, so the type of person who would cross that threshold would be interesting to understand.\n",
    "\n",
    "I ran logistic regression and decision tree classifier models, which exhibited similar test accuracy (~70%) to the models described in the paper. The logistic regression model demonstrated that the personality traits of sensation seeking and openness to experience, in addition to the demographic of men were the most predictive of illegal drug use. The decision tree classifier demonstrated that a branch of lower sensation seeking, lower openness, and higher conscientiousness was the most predictive of never using an illegal drug."
   ]
  },
  {
   "cell_type": "markdown",
   "metadata": {},
   "source": [
    "### Introduction\n",
    "The authors of the paper collected survey data on five demographic factors (age, gender, education, country, ethnicity) and seven personality traits (neuroticism, extraversion, openness to experience, agreeableness, conscientiousness from the [Five Factor Model](https://www.annualreviews.org/doi/abs/10.1146/annurev.ps.41.020190.002221), and impulsivity and sensation seeking from two other personlity inventories). The Five Factor model is a well-validated metric of personality that has shown to be predictive of real-world outcomes in many studies. The impulsivity and sensation seeking metrics are specifically tailored to capture traits known to be associated with drug use. In addition to this, the authors collected data on the usage of 16 psychoactive substances (alcohol, amphetamines, amyl nitrite, benzodiazepines, caffeine, cannabis, cocaine, crack, ecstasy, heroin, ketamine, legal highs, LSD, methadone, mushrooms, nicotine, volatile substances), plus two controls (chocolate and a fictitious substance called semer). In the dataset provided by the [UCI Machine Learning Repository](https://archive.ics.uci.edu/ml/datasets/Drug+consumption+%28quantified%29), each feature was quantified and mean-centered. Some features were ordinal such as age (from bracket \"18-24\" to \"65+\"), education (from \n",
    "\"Left school before 16 years\" to \"Doctorate\"), and drug use (one of seven responses from \"Never used\" to \"Used in the last day.\" Other features, such as country and ethnicity, were quantified, although the quantification is neccessarily arbitrary."
   ]
  },
  {
   "cell_type": "markdown",
   "metadata": {},
   "source": [
    "### Related work and motivation\n",
    "Related studies have used this dataset to examine features predictive of [alcohol](https://link.springer.com/article/10.1007/s41870-018-0094-3) and [volatile substance](https://ieeexplore.ieee.org/abstract/document/8234516) abuse. In this project, I decided not to focus on a single drug, but the usage of drugs that are widely classified as illegal. I also decided not to focus on when/how often drugs are used, but simply on if an individual used an illegal drug at least once. That is, I excluded legal drugs (alcohol, caffeine, cannabis, and nicotine), prescription drugs (amphetamines, benzodiazepines, and methadone), and drugs of little public interest (amyl nitrite, legal highs, and volatile substances). This leaves mushrooms, ecstasy, cocaine, LSD, ketamine, heroin, and crack as my drugs of interest. Ultimately, the question was: What demographic factors and personality traits are predicative of choosing to use an illegal drug in one's lifetime?"
   ]
  },
  {
   "cell_type": "markdown",
   "metadata": {},
   "source": [
    "### Methods 1.1 Data loading"
   ]
  },
  {
   "cell_type": "code",
   "execution_count": 1,
   "metadata": {},
   "outputs": [
    {
     "name": "stdout",
     "output_type": "stream",
     "text": [
      "(1885, 31)\n"
     ]
    }
   ],
   "source": [
    "# Read csv\n",
    "import pandas as pd\n",
    "csv = pd.read_csv('Data/Drugs.csv', header = None)\n",
    "print(csv.shape)"
   ]
  },
  {
   "cell_type": "code",
   "execution_count": 2,
   "metadata": {},
   "outputs": [
    {
     "name": "stdout",
     "output_type": "stream",
     "text": [
      "31\n"
     ]
    }
   ],
   "source": [
    "# Name columns\n",
    "columns = ['Age', 'Female', 'Education', 'Country', 'Ethnicity', \\\n",
    "           'Neuroticism', 'Extraversion', 'Openness', 'Agreeableness', 'Conscientiousness', \\\n",
    "           'Impulsivity', 'SensationSeeking', \\\n",
    "           'Alcohol', 'Amphetamines', 'AmylNitrite', 'Benzodiazepines', 'Caffeine', 'Cannabis', 'Chocolate', \\\n",
    "           'Cocaine', 'Crack', 'Ecstasy', 'Heroin', 'Ketamine', 'LegalHighs', 'LSD', 'Methadone', 'Mushrooms', \\\n",
    "           'Nicotine', 'Semer', 'VolatileSubstances']\n",
    "print(len(columns))"
   ]
  },
  {
   "cell_type": "code",
   "execution_count": 3,
   "metadata": {},
   "outputs": [],
   "source": [
    "# Create DataFrame\n",
    "data = pd.DataFrame(data = csv)\n",
    "data.columns = columns"
   ]
  },
  {
   "cell_type": "markdown",
   "metadata": {},
   "source": [
    "### Methods 1.2 Data cleaning, manipulation, and exploration"
   ]
  },
  {
   "cell_type": "code",
   "execution_count": 4,
   "metadata": {},
   "outputs": [],
   "source": [
    "# Drop multi-category, non-ordinal features\n",
    "data = data.drop(['Country', 'Ethnicity'], axis = 1)"
   ]
  },
  {
   "cell_type": "code",
   "execution_count": 5,
   "metadata": {},
   "outputs": [
    {
     "name": "stdout",
     "output_type": "stream",
     "text": [
      "0    1877\n",
      "2       3\n",
      "3       2\n",
      "1       2\n",
      "4       1\n",
      "Name: Semer, dtype: int64\n",
      "(1885, 29)\n",
      "(1877, 29)\n"
     ]
    }
   ],
   "source": [
    "# Check value count for Semer, a fictitious drug included to weed out participants responding improperly\n",
    "print(data.Semer.value_counts())\n",
    "print(data.shape)\n",
    "# Remove these rows\n",
    "data = data[data['Semer'] == 0]\n",
    "print(data.shape)\n",
    "# Drop semer column\n",
    "data = data.drop('Semer', axis = 1)"
   ]
  },
  {
   "cell_type": "code",
   "execution_count": 6,
   "metadata": {},
   "outputs": [],
   "source": [
    "# Name drug columns\n",
    "drug_columns = ['Alcohol', 'Amphetamines', 'AmylNitrite', 'Benzodiazepines', 'Caffeine', 'Cannabis', 'Chocolate', \\\n",
    "           'Cocaine', 'Crack', 'Ecstasy', 'Heroin', 'Ketamine', 'LegalHighs', 'LSD', 'Methadone', 'Mushrooms', \\\n",
    "           'Nicotine', 'VolatileSubstances']"
   ]
  },
  {
   "cell_type": "code",
   "execution_count": 7,
   "metadata": {},
   "outputs": [],
   "source": [
    "# Convert drug use to binary (1 = used, 0 = never used)\n",
    "for column in drug_columns:\n",
    "    data[column].values[data[column].values > 0] = 1"
   ]
  },
  {
   "cell_type": "code",
   "execution_count": 8,
   "metadata": {},
   "outputs": [
    {
     "data": {
      "image/png": "[encoded data removed]",
      "text/plain": [
       "<Figure size 360x360 with 4 Axes>"
      ]
     },
     "metadata": {
      "needs_background": "light"
     },
     "output_type": "display_data"
    }
   ],
   "source": [
    "# Plot demographic histograms\n",
    "import matplotlib.pyplot as plt\n",
    "histograms = data[['Age', 'Female', 'Education']].hist(bins = 6, figsize = (5, 5))\n",
    "plt.savefig('Images/personality_histograms.png')"
   ]
  },
  {
   "cell_type": "markdown",
   "metadata": {},
   "source": [
    "[\"Normality of predictors is not an assumption of logistic regression, or linear regression for that matter\"](\n",
    "https://stats.stackexchange.com/questions/72400/whether-to-transform-non-normal-independent-variables-in-logistic-regression)"
   ]
  },
  {
   "cell_type": "code",
   "execution_count": 9,
   "metadata": {},
   "outputs": [
    {
     "data": {
      "image/png": "[encoded data removed]",
      "text/plain": [
       "<Figure size 720x720 with 9 Axes>"
      ]
     },
     "metadata": {
      "needs_background": "light"
     },
     "output_type": "display_data"
    }
   ],
   "source": [
    "# Plot personality histograms\n",
    "histograms = data[['Neuroticism', 'Extraversion', 'Openness', 'Agreeableness', 'Conscientiousness', \\\n",
    "           'Impulsivity', 'SensationSeeking']].hist(bins = 10, figsize = (10, 10))\n",
    "plt.savefig('Images/personality_histograms.png')"
   ]
  },
  {
   "cell_type": "code",
   "execution_count": 10,
   "metadata": {},
   "outputs": [
    {
     "data": {
      "text/html": [
       "<div>\n",
       "<style scoped>\n",
       "    .dataframe tbody tr th:only-of-type {\n",
       "        vertical-align: middle;\n",
       "    }\n",
       "\n",
       "    .dataframe tbody tr th {\n",
       "        vertical-align: top;\n",
       "    }\n",
       "\n",
       "    .dataframe thead th {\n",
       "        text-align: right;\n",
       "    }\n",
       "</style>\n",
       "<table border=\"1\" class=\"dataframe\">\n",
       "  <thead>\n",
       "    <tr style=\"text-align: right;\">\n",
       "      <th></th>\n",
       "      <th>Drug</th>\n",
       "      <th>% used</th>\n",
       "    </tr>\n",
       "  </thead>\n",
       "  <tbody>\n",
       "    <tr>\n",
       "      <th>4</th>\n",
       "      <td>Caffeine</td>\n",
       "      <td>0.99</td>\n",
       "    </tr>\n",
       "    <tr>\n",
       "      <th>0</th>\n",
       "      <td>Alcohol</td>\n",
       "      <td>0.98</td>\n",
       "    </tr>\n",
       "    <tr>\n",
       "      <th>6</th>\n",
       "      <td>Chocolate</td>\n",
       "      <td>0.98</td>\n",
       "    </tr>\n",
       "    <tr>\n",
       "      <th>5</th>\n",
       "      <td>Cannabis</td>\n",
       "      <td>0.78</td>\n",
       "    </tr>\n",
       "    <tr>\n",
       "      <th>16</th>\n",
       "      <td>Nicotine</td>\n",
       "      <td>0.77</td>\n",
       "    </tr>\n",
       "    <tr>\n",
       "      <th>1</th>\n",
       "      <td>Amphetamines</td>\n",
       "      <td>0.48</td>\n",
       "    </tr>\n",
       "    <tr>\n",
       "      <th>15</th>\n",
       "      <td>Mushrooms</td>\n",
       "      <td>0.48</td>\n",
       "    </tr>\n",
       "    <tr>\n",
       "      <th>3</th>\n",
       "      <td>Benzodiazepines</td>\n",
       "      <td>0.47</td>\n",
       "    </tr>\n",
       "    <tr>\n",
       "      <th>9</th>\n",
       "      <td>Ecstasy</td>\n",
       "      <td>0.46</td>\n",
       "    </tr>\n",
       "    <tr>\n",
       "      <th>7</th>\n",
       "      <td>Cocaine</td>\n",
       "      <td>0.45</td>\n",
       "    </tr>\n",
       "    <tr>\n",
       "      <th>13</th>\n",
       "      <td>LSD</td>\n",
       "      <td>0.43</td>\n",
       "    </tr>\n",
       "    <tr>\n",
       "      <th>12</th>\n",
       "      <td>LegalHighs</td>\n",
       "      <td>0.42</td>\n",
       "    </tr>\n",
       "    <tr>\n",
       "      <th>2</th>\n",
       "      <td>AmylNitrite</td>\n",
       "      <td>0.31</td>\n",
       "    </tr>\n",
       "    <tr>\n",
       "      <th>14</th>\n",
       "      <td>Methadone</td>\n",
       "      <td>0.24</td>\n",
       "    </tr>\n",
       "    <tr>\n",
       "      <th>17</th>\n",
       "      <td>VolatileSubstances</td>\n",
       "      <td>0.23</td>\n",
       "    </tr>\n",
       "    <tr>\n",
       "      <th>11</th>\n",
       "      <td>Ketamine</td>\n",
       "      <td>0.21</td>\n",
       "    </tr>\n",
       "    <tr>\n",
       "      <th>10</th>\n",
       "      <td>Heroin</td>\n",
       "      <td>0.15</td>\n",
       "    </tr>\n",
       "    <tr>\n",
       "      <th>8</th>\n",
       "      <td>Crack</td>\n",
       "      <td>0.14</td>\n",
       "    </tr>\n",
       "  </tbody>\n",
       "</table>\n",
       "</div>"
      ],
      "text/plain": [
       "                  Drug  % used\n",
       "4             Caffeine    0.99\n",
       "0              Alcohol    0.98\n",
       "6            Chocolate    0.98\n",
       "5             Cannabis    0.78\n",
       "16            Nicotine    0.77\n",
       "1         Amphetamines    0.48\n",
       "15           Mushrooms    0.48\n",
       "3      Benzodiazepines    0.47\n",
       "9              Ecstasy    0.46\n",
       "7              Cocaine    0.45\n",
       "13                 LSD    0.43\n",
       "12          LegalHighs    0.42\n",
       "2          AmylNitrite    0.31\n",
       "14           Methadone    0.24\n",
       "17  VolatileSubstances    0.23\n",
       "11            Ketamine    0.21\n",
       "10              Heroin    0.15\n",
       "8                Crack    0.14"
      ]
     },
     "execution_count": 10,
     "metadata": {},
     "output_type": "execute_result"
    }
   ],
   "source": [
    "# Rank by usage\n",
    "usage_list = []\n",
    "for column in drug_columns:\n",
    "    usage_list.append(data[column].mean())\n",
    "usage_df = pd.DataFrame(columns = ['Drug', '% used'])\n",
    "usage_df['Drug'] = drug_columns\n",
    "usage_df['% used'] = usage_list\n",
    "round(usage_df, 2).sort_values('% used', ascending = False)"
   ]
  },
  {
   "cell_type": "code",
   "execution_count": 11,
   "metadata": {},
   "outputs": [
    {
     "data": {
      "text/plain": [
       "Mushrooms          0.48\n",
       "Ecstasy            0.46\n",
       "Cocaine            0.45\n",
       "LSD                0.43\n",
       "Ketamine           0.21\n",
       "Heroin             0.15\n",
       "Crack              0.14\n",
       "UsedIllegalDrug    0.64\n",
       "dtype: float64"
      ]
     },
     "execution_count": 11,
     "metadata": {},
     "output_type": "execute_result"
    }
   ],
   "source": [
    "# Create column for participants who have used one or more illegal drugs\n",
    "pd.options.mode.chained_assignment = None\n",
    "illegal_drugs = ['Mushrooms', 'Ecstasy', 'Cocaine', 'LSD', 'Ketamine', 'Heroin', 'Crack']\n",
    "illegal_drugs_df = data[illegal_drugs]\n",
    "illegal_drugs_df['UsedIllegalDrug'] = illegal_drugs_df.sum(axis = 1)\n",
    "# If the sum of single use of any illegal drug > 0, then UsedIllegalDrug = 1\n",
    "illegal_drugs_df['UsedIllegalDrug'][illegal_drugs_df['UsedIllegalDrug'] > 0] = 1\n",
    "# Percent of participants who have used each drug at least once \n",
    "# + percent of participants who have used one or more of these drugs at least once\n",
    "round(illegal_drugs_df.mean(), 2)"
   ]
  },
  {
   "cell_type": "markdown",
   "metadata": {},
   "source": [
    "64% of individuals have used one of these illegal drugs. Can I create a model that performs better than 64% (a dummy model)?"
   ]
  },
  {
   "cell_type": "code",
   "execution_count": 12,
   "metadata": {},
   "outputs": [],
   "source": [
    "# Add column to main data\n",
    "data['UsedIllegalDrug'] = illegal_drugs_df['UsedIllegalDrug']\n",
    "# Drop columns not of interest\n",
    "data_illegaldrugs = data[['Age', 'Female', 'Education', 'Neuroticism', 'Extraversion', 'Openness', 'Agreeableness', \\\n",
    "            'Conscientiousness', 'Impulsivity', 'SensationSeeking', 'UsedIllegalDrug']]"
   ]
  },
  {
   "cell_type": "code",
   "execution_count": 13,
   "metadata": {},
   "outputs": [
    {
     "data": {
      "text/html": [
       "<div>\n",
       "<style scoped>\n",
       "    .dataframe tbody tr th:only-of-type {\n",
       "        vertical-align: middle;\n",
       "    }\n",
       "\n",
       "    .dataframe tbody tr th {\n",
       "        vertical-align: top;\n",
       "    }\n",
       "\n",
       "    .dataframe thead th {\n",
       "        text-align: right;\n",
       "    }\n",
       "</style>\n",
       "<table border=\"1\" class=\"dataframe\">\n",
       "  <thead>\n",
       "    <tr style=\"text-align: right;\">\n",
       "      <th></th>\n",
       "      <th>Age</th>\n",
       "      <th>Female</th>\n",
       "      <th>Education</th>\n",
       "      <th>Neuroticism</th>\n",
       "      <th>Extraversion</th>\n",
       "      <th>Openness</th>\n",
       "      <th>Agreeableness</th>\n",
       "      <th>Conscientiousness</th>\n",
       "      <th>Impulsivity</th>\n",
       "      <th>SensationSeeking</th>\n",
       "    </tr>\n",
       "    <tr>\n",
       "      <th>UsedIllegalDrug</th>\n",
       "      <th></th>\n",
       "      <th></th>\n",
       "      <th></th>\n",
       "      <th></th>\n",
       "      <th></th>\n",
       "      <th></th>\n",
       "      <th></th>\n",
       "      <th></th>\n",
       "      <th></th>\n",
       "      <th></th>\n",
       "    </tr>\n",
       "  </thead>\n",
       "  <tbody>\n",
       "    <tr>\n",
       "      <th>0</th>\n",
       "      <td>0.33</td>\n",
       "      <td>0.17</td>\n",
       "      <td>0.20</td>\n",
       "      <td>-0.15</td>\n",
       "      <td>0.03</td>\n",
       "      <td>-0.46</td>\n",
       "      <td>0.21</td>\n",
       "      <td>0.35</td>\n",
       "      <td>-0.38</td>\n",
       "      <td>-0.54</td>\n",
       "    </tr>\n",
       "    <tr>\n",
       "      <th>1</th>\n",
       "      <td>-0.13</td>\n",
       "      <td>-0.09</td>\n",
       "      <td>-0.12</td>\n",
       "      <td>0.08</td>\n",
       "      <td>-0.02</td>\n",
       "      <td>0.25</td>\n",
       "      <td>-0.12</td>\n",
       "      <td>-0.20</td>\n",
       "      <td>0.22</td>\n",
       "      <td>0.30</td>\n",
       "    </tr>\n",
       "  </tbody>\n",
       "</table>\n",
       "</div>"
      ],
      "text/plain": [
       "                  Age  Female  Education  Neuroticism  Extraversion  Openness  \\\n",
       "UsedIllegalDrug                                                                 \n",
       "0                0.33    0.17       0.20        -0.15          0.03     -0.46   \n",
       "1               -0.13   -0.09      -0.12         0.08         -0.02      0.25   \n",
       "\n",
       "                 Agreeableness  Conscientiousness  Impulsivity  \\\n",
       "UsedIllegalDrug                                                  \n",
       "0                         0.21               0.35        -0.38   \n",
       "1                        -0.12              -0.20         0.22   \n",
       "\n",
       "                 SensationSeeking  \n",
       "UsedIllegalDrug                    \n",
       "0                           -0.54  \n",
       "1                            0.30  "
      ]
     },
     "execution_count": 13,
     "metadata": {},
     "output_type": "execute_result"
    }
   ],
   "source": [
    "# Group by illegal drug use\n",
    "grouped = round(data_illegaldrugs.groupby('UsedIllegalDrug').mean(), 2)\n",
    "grouped"
   ]
  },
  {
   "cell_type": "code",
   "execution_count": 14,
   "metadata": {},
   "outputs": [
    {
     "data": {
      "text/plain": [
       "SensationSeeking    -0.84\n",
       "Openness            -0.71\n",
       "Impulsivity         -0.60\n",
       "Neuroticism         -0.23\n",
       "Extraversion         0.05\n",
       "Female               0.26\n",
       "Education            0.32\n",
       "Agreeableness        0.33\n",
       "Age                  0.46\n",
       "Conscientiousness    0.55\n",
       "dtype: float64"
      ]
     },
     "execution_count": 14,
     "metadata": {},
     "output_type": "execute_result"
    }
   ],
   "source": [
    "# Calculate largest differences in features between groups\n",
    "difference = grouped.iloc[0] - grouped.iloc[1]\n",
    "difference.sort_values()\n",
    "# Non-users are less sensation seeking, more consciousness, etc."
   ]
  },
  {
   "cell_type": "code",
   "execution_count": 15,
   "metadata": {},
   "outputs": [
    {
     "data": {
      "text/html": [
       "<div>\n",
       "<style scoped>\n",
       "    .dataframe tbody tr th:only-of-type {\n",
       "        vertical-align: middle;\n",
       "    }\n",
       "\n",
       "    .dataframe tbody tr th {\n",
       "        vertical-align: top;\n",
       "    }\n",
       "\n",
       "    .dataframe thead th {\n",
       "        text-align: right;\n",
       "    }\n",
       "</style>\n",
       "<table border=\"1\" class=\"dataframe\">\n",
       "  <thead>\n",
       "    <tr style=\"text-align: right;\">\n",
       "      <th></th>\n",
       "      <th>Age</th>\n",
       "      <th>Education</th>\n",
       "      <th>Neuroticism</th>\n",
       "      <th>Extraversion</th>\n",
       "      <th>Openness</th>\n",
       "      <th>Agreeableness</th>\n",
       "      <th>Conscientiousness</th>\n",
       "      <th>Impulsivity</th>\n",
       "      <th>SensationSeeking</th>\n",
       "      <th>UsedIllegalDrug</th>\n",
       "    </tr>\n",
       "    <tr>\n",
       "      <th>Female</th>\n",
       "      <th></th>\n",
       "      <th></th>\n",
       "      <th></th>\n",
       "      <th></th>\n",
       "      <th></th>\n",
       "      <th></th>\n",
       "      <th></th>\n",
       "      <th></th>\n",
       "      <th></th>\n",
       "      <th></th>\n",
       "    </tr>\n",
       "  </thead>\n",
       "  <tbody>\n",
       "    <tr>\n",
       "      <th>-0.48246</th>\n",
       "      <td>-0.06</td>\n",
       "      <td>-0.19</td>\n",
       "      <td>-0.07</td>\n",
       "      <td>-0.06</td>\n",
       "      <td>0.13</td>\n",
       "      <td>-0.22</td>\n",
       "      <td>-0.18</td>\n",
       "      <td>0.17</td>\n",
       "      <td>0.23</td>\n",
       "      <td>0.76</td>\n",
       "    </tr>\n",
       "    <tr>\n",
       "      <th>0.48246</th>\n",
       "      <td>0.13</td>\n",
       "      <td>0.19</td>\n",
       "      <td>0.07</td>\n",
       "      <td>0.06</td>\n",
       "      <td>-0.14</td>\n",
       "      <td>0.22</td>\n",
       "      <td>0.18</td>\n",
       "      <td>-0.16</td>\n",
       "      <td>-0.24</td>\n",
       "      <td>0.51</td>\n",
       "    </tr>\n",
       "  </tbody>\n",
       "</table>\n",
       "</div>"
      ],
      "text/plain": [
       "           Age  Education  Neuroticism  Extraversion  Openness  Agreeableness  \\\n",
       "Female                                                                          \n",
       "-0.48246 -0.06      -0.19        -0.07         -0.06      0.13          -0.22   \n",
       " 0.48246  0.13       0.19         0.07          0.06     -0.14           0.22   \n",
       "\n",
       "          Conscientiousness  Impulsivity  SensationSeeking  UsedIllegalDrug  \n",
       "Female                                                                       \n",
       "-0.48246              -0.18         0.17              0.23             0.76  \n",
       " 0.48246               0.18        -0.16             -0.24             0.51  "
      ]
     },
     "execution_count": 15,
     "metadata": {},
     "output_type": "execute_result"
    }
   ],
   "source": [
    "# Group by gender\n",
    "grouped = round(data_illegaldrugs.groupby('Female').mean(), 2)\n",
    "grouped"
   ]
  },
  {
   "cell_type": "code",
   "execution_count": 16,
   "metadata": {},
   "outputs": [
    {
     "data": {
      "text/plain": [
       "Agreeableness       -0.44\n",
       "Education           -0.38\n",
       "Conscientiousness   -0.36\n",
       "Age                 -0.19\n",
       "Neuroticism         -0.14\n",
       "Extraversion        -0.12\n",
       "UsedIllegalDrug      0.25\n",
       "Openness             0.27\n",
       "Impulsivity          0.33\n",
       "SensationSeeking     0.47\n",
       "dtype: float64"
      ]
     },
     "execution_count": 16,
     "metadata": {},
     "output_type": "execute_result"
    }
   ],
   "source": [
    "# Calculate largest differences in features between groups\n",
    "difference = grouped.iloc[0] - grouped.iloc[1]\n",
    "difference.sort_values()\n",
    "# Men are less agreeable, less educated, more impulsive, more sensation seeking, etc."
   ]
  },
  {
   "cell_type": "code",
   "execution_count": 17,
   "metadata": {},
   "outputs": [],
   "source": [
    "# Separate features from target\n",
    "X = data_illegaldrugs.drop('UsedIllegalDrug', axis = 1)\n",
    "y = data_illegaldrugs['UsedIllegalDrug']"
   ]
  },
  {
   "cell_type": "code",
   "execution_count": 18,
   "metadata": {},
   "outputs": [
    {
     "data": {
      "text/html": [
       "<div>\n",
       "<style scoped>\n",
       "    .dataframe tbody tr th:only-of-type {\n",
       "        vertical-align: middle;\n",
       "    }\n",
       "\n",
       "    .dataframe tbody tr th {\n",
       "        vertical-align: top;\n",
       "    }\n",
       "\n",
       "    .dataframe thead th {\n",
       "        text-align: right;\n",
       "    }\n",
       "</style>\n",
       "<table border=\"1\" class=\"dataframe\">\n",
       "  <thead>\n",
       "    <tr style=\"text-align: right;\">\n",
       "      <th></th>\n",
       "      <th>Features</th>\n",
       "      <th>VIF</th>\n",
       "    </tr>\n",
       "  </thead>\n",
       "  <tbody>\n",
       "    <tr>\n",
       "      <th>9</th>\n",
       "      <td>SensationSeeking</td>\n",
       "      <td>2.1</td>\n",
       "    </tr>\n",
       "    <tr>\n",
       "      <th>8</th>\n",
       "      <td>Impulsivity</td>\n",
       "      <td>1.8</td>\n",
       "    </tr>\n",
       "    <tr>\n",
       "      <th>3</th>\n",
       "      <td>Neuroticism</td>\n",
       "      <td>1.5</td>\n",
       "    </tr>\n",
       "    <tr>\n",
       "      <th>4</th>\n",
       "      <td>Extraversion</td>\n",
       "      <td>1.5</td>\n",
       "    </tr>\n",
       "    <tr>\n",
       "      <th>7</th>\n",
       "      <td>Conscientiousness</td>\n",
       "      <td>1.5</td>\n",
       "    </tr>\n",
       "    <tr>\n",
       "      <th>5</th>\n",
       "      <td>Openness</td>\n",
       "      <td>1.3</td>\n",
       "    </tr>\n",
       "    <tr>\n",
       "      <th>1</th>\n",
       "      <td>Female</td>\n",
       "      <td>1.2</td>\n",
       "    </tr>\n",
       "    <tr>\n",
       "      <th>6</th>\n",
       "      <td>Agreeableness</td>\n",
       "      <td>1.2</td>\n",
       "    </tr>\n",
       "    <tr>\n",
       "      <th>2</th>\n",
       "      <td>Education</td>\n",
       "      <td>1.1</td>\n",
       "    </tr>\n",
       "  </tbody>\n",
       "</table>\n",
       "</div>"
      ],
      "text/plain": [
       "            Features  VIF\n",
       "9   SensationSeeking  2.1\n",
       "8        Impulsivity  1.8\n",
       "3        Neuroticism  1.5\n",
       "4       Extraversion  1.5\n",
       "7  Conscientiousness  1.5\n",
       "5           Openness  1.3\n",
       "1             Female  1.2\n",
       "6      Agreeableness  1.2\n",
       "2          Education  1.1"
      ]
     },
     "execution_count": 18,
     "metadata": {},
     "output_type": "execute_result"
    }
   ],
   "source": [
    "# Examine multicollinearity\n",
    "from statsmodels.stats.outliers_influence import variance_inflation_factor\n",
    "vif = pd.DataFrame(columns = ['Features', 'VIF'])\n",
    "vif['Features'] = X.columns\n",
    "for i in range(X.shape[1]):\n",
    "    vif.loc[i, 'VIF'] = variance_inflation_factor(X.values, i).round(1)\n",
    "# Remove constant row\n",
    "vif = vif[1:]\n",
    "# Sort by VIF\n",
    "vif.sort_values('VIF', ascending = False)\n",
    "# No VIF > 5"
   ]
  },
  {
   "cell_type": "code",
   "execution_count": 19,
   "metadata": {},
   "outputs": [
    {
     "name": "stdout",
     "output_type": "stream",
     "text": [
      "(1501, 10)\n",
      "(376, 10)\n"
     ]
    }
   ],
   "source": [
    "# Train test split\n",
    "from sklearn.model_selection import train_test_split\n",
    "X_train, X_test, y_train, y_test = train_test_split(X, y, test_size = 0.2, random_state = 20201011, stratify = y)\n",
    "print(X_train.shape)\n",
    "print(X_test.shape)"
   ]
  },
  {
   "cell_type": "markdown",
   "metadata": {},
   "source": [
    "### Methods 2.1 Logistic regression"
   ]
  },
  {
   "cell_type": "code",
   "execution_count": 20,
   "metadata": {},
   "outputs": [],
   "source": [
    "# Scale data, you must scale if using regularization \n",
    "# so that all your coefficients are on the same scale before shrinkage\n",
    "from sklearn.preprocessing import StandardScaler\n",
    "scaler = StandardScaler()\n",
    "columns = X_train.columns\n",
    "scaler.fit(X_train)\n",
    "X_train = scaler.transform(X_train)\n",
    "X_test = scaler.transform(X_test)"
   ]
  },
  {
   "cell_type": "code",
   "execution_count": null,
   "metadata": {},
   "outputs": [],
   "source": [
    "# Grid search\n",
    "# If N >> P, F1 is a better metric\n",
    "# If P >> N, balanced accuracy is a better metric\n",
    "# Scoring = balanced accuracy because target is inbalanced (64% users, P >> N)\n",
    "from sklearn.linear_model import LogisticRegression\n",
    "from sklearn.model_selection import GridSearchCV\n",
    "import numpy as np\n",
    "logreg = LogisticRegression()\n",
    "logreg.fit(X_train, y_train)\n",
    "grid = {'C': [0.01, 0.05, 0.1, 0.5, 1, 5, 10], 'penalty' :['elasticnet'], 'solver': ['saga'], \n",
    "        'l1_ratio': [0, 0.2, 0.4, 0.6, 0.8, 1], 'class_weight': ['balanced', None]}\n",
    "gridsearch = GridSearchCV(estimator = logreg, param_grid = grid, n_jobs = -1,                      \n",
    "                          cv = 10, return_train_score = True, scoring = 'balanced_accuracy')\n",
    "gridsearch.fit(X_train, y_train)\n",
    "logreg_models = pd.DataFrame(gridsearch.cv_results_).sort_values('mean_test_score', ascending = False)\n",
    "print('LR mean test score:', round(logreg_models['mean_test_score'].iloc[0], 3))\n",
    "print('LR mest parameters', logreg_models['params'].iloc[0]) # Best parameters, 0% lasso regularization"
   ]
  },
  {
   "cell_type": "code",
   "execution_count": null,
   "metadata": {},
   "outputs": [],
   "source": [
    "# Train with best paraeters\n",
    "logreg = LogisticRegression(C = 0.05,\n",
    " class_weight = 'balanced',\n",
    " l1_ratio = 0,\n",
    " penalty = 'elasticnet',\n",
    " solver = 'saga')\n",
    "logreg.fit(X_train, y_train)"
   ]
  },
  {
   "cell_type": "code",
   "execution_count": null,
   "metadata": {},
   "outputs": [],
   "source": [
    "# Sort features by beta value\n",
    "feature_coefs = pd.DataFrame(columns = ['Feature', 'Beta'])\n",
    "feature_coefs['Feature'] = columns\n",
    "coefs = logreg.coef_.round(2)\n",
    "feature_coefs['Beta'] = coefs[0]\n",
    "feature_coefs.sort_values('Beta')\n",
    "# Sensation seeking and openness are the two largest beta values that are associated with being an illegal drug user\n",
    "# After that, the next two largest beta values are the negative values of gender (being female) and conscientiousness\n",
    "# that are associated with being a non-user"
   ]
  },
  {
   "cell_type": "code",
   "execution_count": null,
   "metadata": {},
   "outputs": [],
   "source": [
    "# Plot illegal drug use vs. largest betas\n",
    "import seaborn as sns\n",
    "sns.scatterplot(x = \"Openness\", y = \"SensationSeeking\", data = data, hue = 'UsedIllegalDrug')\n",
    "plt.savefig('Images/openness_ss.png')"
   ]
  },
  {
   "cell_type": "code",
   "execution_count": null,
   "metadata": {},
   "outputs": [],
   "source": [
    "# Plot illegal drug use vs. smallest betas\n",
    "sns.scatterplot(x = \"Female\", y = \"Conscientiousness\", data = data, hue = 'UsedIllegalDrug')\n",
    "plt.savefig('Images/female_c.png')"
   ]
  },
  {
   "cell_type": "code",
   "execution_count": null,
   "metadata": {},
   "outputs": [],
   "source": [
    "# Plot confusion matrix\n",
    "from sklearn.metrics import accuracy_score, f1_score, precision_score, recall_score, balanced_accuracy_score, confusion_matrix\n",
    "y_pred_logreg = logreg.predict(X_train)\n",
    "cm = confusion_matrix(y_train, y_pred_logreg)\n",
    "plt.figure(figsize = (10,10))\n",
    "sns.heatmap(cm, annot = True, fmt = \".0f\", square = True, annot_kws={\"fontsize\": 50});\n",
    "plt.ylabel('Actual label', fontsize = 20);\n",
    "plt.xlabel('Predicted label', fontsize = 20);\n",
    "score = accuracy_score(y_train, y_pred_logreg).round(2)\n",
    "title = 'Accuracy Score: {0}'.format(score)\n",
    "plt.title(title, size = 20);\n",
    "plt.savefig('Images/cm_logreg.png')\n",
    "plt.show()\n",
    "# 75% accuracy > 64% dummy model\n",
    "# More false negatives than false positives"
   ]
  },
  {
   "cell_type": "code",
   "execution_count": null,
   "metadata": {},
   "outputs": [],
   "source": [
    "# Other methods of scoring\n",
    "print('===Logistic regression===')\n",
    "print('Accuracy = ', accuracy_score(y_train, y_pred_logreg).round(2))\n",
    "print('Precision =', precision_score(y_train, y_pred_logreg).round(2))\n",
    "print('Recall =', recall_score(y_train, y_pred_logreg).round(2))\n",
    "print('F1 Score =', f1_score(y_train, y_pred_logreg).round(2))\n",
    "print('Balanced accuracy =', balanced_accuracy_score(y_train, y_pred_logreg).round(2))"
   ]
  },
  {
   "cell_type": "markdown",
   "metadata": {},
   "source": [
    "### Methods 2.2 Decision tree classifier"
   ]
  },
  {
   "cell_type": "code",
   "execution_count": null,
   "metadata": {},
   "outputs": [],
   "source": [
    "# Grid search\n",
    "from sklearn.tree import DecisionTreeClassifier\n",
    "dtc = DecisionTreeClassifier(random_state = 20201014)\n",
    "grid = {'max_depth': [None, 1, 5, 10], 'max_features': ['sqrt', None], 'class_weight': ['balanced', None]}\n",
    "gridsearch = GridSearchCV(estimator = dtc, param_grid = grid, n_jobs = -1,                      \n",
    "                          cv = 10, return_train_score = True, scoring = 'balanced_accuracy')\n",
    "gridsearch.fit(X_train, y_train)\n",
    "dtc_models = pd.DataFrame(gridsearch.cv_results_).sort_values('mean_test_score', ascending = False)\n",
    "print('LR mean test score:', round(logreg_models['mean_test_score'].iloc[0], 3))\n",
    "print('LR mest parameters', logreg_models['params'].iloc[0])\n",
    "print('DTC mean test score:', round(dtc_models['mean_test_score'].iloc[0], 3))\n",
    "print('DTC best parameters', dtc_models['params'].iloc[0])"
   ]
  },
  {
   "cell_type": "code",
   "execution_count": null,
   "metadata": {},
   "outputs": [],
   "source": [
    "# Train with best parameters\n",
    "dtc = DecisionTreeClassifier(class_weight = None, max_depth = 5, max_features = None, \n",
    "                             random_state = 20201014)\n",
    "dtc.fit(X_train, y_train)"
   ]
  },
  {
   "cell_type": "code",
   "execution_count": null,
   "metadata": {},
   "outputs": [],
   "source": [
    "# Plot confusion matrix\n",
    "y_pred_dtc = dtc.predict(X_train)\n",
    "cm = confusion_matrix(y_train, y_pred_dtc)\n",
    "plt.figure(figsize = (10,10))\n",
    "sns.heatmap(cm, annot = True, fmt = \".0f\", square = True, annot_kws={\"fontsize\": 50});\n",
    "plt.ylabel('Actual label', fontsize = 20);\n",
    "plt.xlabel('Predicted label', fontsize = 20);\n",
    "score = round(accuracy_score(y_train, y_pred_dtc),2)\n",
    "title = 'Accuracy Score: {0}'.format(score)\n",
    "plt.title(title, size = 20);\n",
    "plt.savefig('Images/cm_dtc.png')\n",
    "plt.show()\n",
    "# Better than logistic regression\n",
    "# More false positives than false negatives"
   ]
  },
  {
   "cell_type": "code",
   "execution_count": null,
   "metadata": {},
   "outputs": [],
   "source": [
    "# Other methods of scoring\n",
    "print('===Logistic regression===')\n",
    "print('Accuracy = ', accuracy_score(y_train, y_pred_logreg).round(2))\n",
    "print('Precision =', precision_score(y_train, y_pred_logreg).round(2))\n",
    "print('Recall =', recall_score(y_train, y_pred_logreg).round(2))\n",
    "print('F1 Score =', f1_score(y_train, y_pred_logreg).round(2))\n",
    "print('Balanced accuracy =', balanced_accuracy_score(y_train, y_pred_logreg).round(2))\n",
    "print('===Decision tree classifier===')\n",
    "print('Accuracy = ', accuracy_score(y_train, y_pred_dtc).round(2))\n",
    "print('Precision =', precision_score(y_train, y_pred_dtc).round(2))\n",
    "print('Recall =', recall_score(y_train, y_pred_dtc).round(2))\n",
    "print('F1 Score =', f1_score(y_train, y_pred_dtc).round(2))\n",
    "print('Balanced accuracy =', balanced_accuracy_score(y_train, y_pred_dtc).round(2))\n",
    "# Accuracy is better than logistic regression, but not balanced accuracy, makes sense since scoring = balanced accuracy\n",
    "# and logistic regression had a higher cross validation score"
   ]
  },
  {
   "cell_type": "code",
   "execution_count": null,
   "metadata": {},
   "outputs": [],
   "source": [
    "# Plot tree\n",
    "from sklearn.tree import plot_tree\n",
    "fig = plt.figure(figsize = (100, 20))\n",
    "_ = plot_tree(dtc, \n",
    "                   feature_names = X.columns,  \n",
    "                   class_names = ['Non-user', 'User'],\n",
    "                   filled = True)\n",
    "plt.savefig('Images/tree.png')\n",
    "# Sensation seaking is at the top of the tree"
   ]
  },
  {
   "cell_type": "markdown",
   "metadata": {},
   "source": [
    "### Methods 2.3 Random forest classifier"
   ]
  },
  {
   "cell_type": "code",
   "execution_count": null,
   "metadata": {},
   "outputs": [],
   "source": [
    "# # Grid search\n",
    "# from sklearn.ensemble import RandomForestClassifier\n",
    "# rfc = RandomForestClassifier(random_state = 20201014)\n",
    "# grid = {'max_depth': [None, 1, 5, 10], 'class_weight': ['balanced', None]}\n",
    "# gridsearch = GridSearchCV(estimator = rfc, param_grid = grid, n_jobs = -1,                      \n",
    "#                           cv = 10, return_train_score = True, scoring = 'balanced_accuracy')\n",
    "# gridsearch.fit(X_train, y_train)\n",
    "# rfc_models = pd.DataFrame(gridsearch.cv_results_).sort_values('mean_test_score', ascending = False)\n",
    "# print('LR mean test score:', round(logreg_models['mean_test_score'].iloc[0], 3))\n",
    "# print('LR mest parameters', logreg_models['params'].iloc[0])\n",
    "# print('DTC mean test score:', round(dtc_models['mean_test_score'].iloc[0], 3))\n",
    "# print('DTC best parameters', dtc_models['params'].iloc[0])\n",
    "# print('RFC mean test score:', round(rfc_models['mean_test_score'].iloc[0], 3))\n",
    "# print('RFC best parameters', rfc_models['params'].iloc[0])"
   ]
  },
  {
   "cell_type": "code",
   "execution_count": null,
   "metadata": {},
   "outputs": [],
   "source": [
    "# Train with best parameters\n",
    "from sklearn.ensemble import RandomForestClassifier\n",
    "rfc = RandomForestClassifier(class_weight = 'balanced', max_depth = 5, random_state = 20201014)\n",
    "rfc.fit(X_train, y_train)"
   ]
  },
  {
   "cell_type": "markdown",
   "metadata": {},
   "source": [
    "[Permutation importance](https://scikit-learn.org/dev/auto_examples/inspection/plot_permutation_importance.html) is a good method of ranking random forest features by importance"
   ]
  },
  {
   "cell_type": "code",
   "execution_count": null,
   "metadata": {},
   "outputs": [],
   "source": [
    "from sklearn.inspection import permutation_importance\n",
    "result = permutation_importance(rfc, X_train, y_train, n_repeats = 10,\n",
    "                                random_state = 20201014, n_jobs = -1)\n",
    "sorted_idx = result.importances_mean.argsort()\n",
    "fig, ax = plt.subplots()\n",
    "ax.boxplot(result.importances[sorted_idx].T,\n",
    "           vert = False, labels = columns[sorted_idx])\n",
    "ax.set_title(\"Permutation Importances\")\n",
    "fig.tight_layout()\n",
    "plt.show()\n",
    "# Again, sensation seeking is the most important feature\n",
    "# Like the logistic regression model, the next three most important featuers are \n",
    "# openness, conscientiousness, and gender (being female)"
   ]
  },
  {
   "cell_type": "code",
   "execution_count": null,
   "metadata": {},
   "outputs": [],
   "source": [
    "# Plot confusion matrix\n",
    "y_pred_rfc = rfc.predict(X_train)\n",
    "cm = confusion_matrix(y_train, y_pred_rfc)\n",
    "plt.figure(figsize = (10,10))\n",
    "sns.heatmap(cm, annot = True, fmt = \".0f\", square = True, annot_kws={\"fontsize\": 50});\n",
    "plt.ylabel('Actual label', fontsize = 20);\n",
    "plt.xlabel('Predicted label', fontsize = 20);\n",
    "score = round(accuracy_score(y_train, y_pred_rfc),2)\n",
    "title = 'Accuracy Score: {0}'.format(score)\n",
    "plt.title(title, size = 20);\n",
    "plt.savefig('Images/cm_rfc.png')\n",
    "plt.show()\n",
    "# Better than logistic regression\n",
    "# More false negatives than false positives"
   ]
  },
  {
   "cell_type": "code",
   "execution_count": null,
   "metadata": {},
   "outputs": [],
   "source": [
    "# Other methods of scoring\n",
    "print('===Logistic regression===')\n",
    "print('Accuracy = ', accuracy_score(y_train, y_pred_logreg).round(2))\n",
    "print('Precision =', precision_score(y_train, y_pred_logreg).round(2))\n",
    "print('Recall =', recall_score(y_train, y_pred_logreg).round(2))\n",
    "print('F1 Score =', f1_score(y_train, y_pred_logreg).round(2))\n",
    "print('Balanced accuracy =', balanced_accuracy_score(y_train, y_pred_logreg).round(2))\n",
    "print('===Decision tree classifier===')\n",
    "print('Accuracy = ', accuracy_score(y_train, y_pred_dtc).round(2))\n",
    "print('Precision =', precision_score(y_train, y_pred_dtc).round(2))\n",
    "print('Recall =', recall_score(y_train, y_pred_dtc).round(2))\n",
    "print('F1 Score =', f1_score(y_train, y_pred_dtc).round(2))\n",
    "print('Balanced accuracy =', balanced_accuracy_score(y_train, y_pred_dtc).round(2))\n",
    "print('===Random forest classifier===')\n",
    "print('Accuracy = ', accuracy_score(y_train, y_pred_rfc).round(2))\n",
    "print('Precision =', precision_score(y_train, y_pred_rfc).round(2))\n",
    "print('Recall =', recall_score(y_train, y_pred_rfc).round(2))\n",
    "print('F1 Score =', f1_score(y_train, y_pred_rfc).round(2))\n",
    "print('Balanced accuracy =', balanced_accuracy_score(y_train, y_pred_rfc).round(2))\n",
    "# Best balanced accuracy"
   ]
  },
  {
   "cell_type": "markdown",
   "metadata": {},
   "source": [
    "### Model evaluation"
   ]
  },
  {
   "cell_type": "code",
   "execution_count": null,
   "metadata": {},
   "outputs": [],
   "source": [
    "test_logreg = logreg.predict(X_test)\n",
    "test_dtc = dtc.predict(X_test)\n",
    "test_rfc = rfc.predict(X_test)\n",
    "print('LR Balanced accuracy =', balanced_accuracy_score(y_test, test_logreg).round(3))\n",
    "print('DTC Balanced accuracy =', balanced_accuracy_score(y_test, test_dtc).round(3))\n",
    "print('RFC Balanced accuracy =', balanced_accuracy_score(y_test, test_rfc).round(3))"
   ]
  },
  {
   "cell_type": "code",
   "execution_count": null,
   "metadata": {},
   "outputs": [],
   "source": [
    "from sklearn.metrics import plot_roc_curve\n",
    "log_disp = plot_roc_curve(logreg, X_test, y_test)\n",
    "dct_disp = plot_roc_curve(dtc, X_test, y_test, ax = log_disp.ax_)\n",
    "rfc_disp = plot_roc_curve(rfc, X_test, y_test, ax = log_disp.ax_)"
   ]
  },
  {
   "cell_type": "markdown",
   "metadata": {},
   "source": [
    "Random forest classifier has slightly greater balanced accuracy, logistic regression has slighter greater AUC"
   ]
  },
  {
   "cell_type": "markdown",
   "metadata": {},
   "source": [
    "### Results and discussion\n",
    "Of the illegal drugs, mushrooms and ecstasy were the most used, heroin and crack were the least used. 64% of participants had used at least one illegal drug. The biggest differences between the group of participants who had used an illegal drug and the group who had never used an illegal drug were that users scored higher on sensation seeking and openness while non-users scored higher on conscientiousness and were older. \n",
    "\n",
    "However, when modeled as a multiple logistic regression, gender (being female) was the largest predictor of being a non-user. In the scatterplots of the largest positive and negative betas, users concentrate in the top right corner of high sensation seeking and openness; in the conscientiousness x gender plot, it appears that males of all conscientiousness levels have used an illegal drug, while there is a cluster of high conscientiousness females who have never used an illegal drug. This may suggest an interaction effect between the conscientiousness and gender features. The logistic regression model predicted illegal drug use with 76% accuracy in the test set, with more false positives for being a user (n = 56) than false negatives for being a non-user (n = 33). \n",
    "\n",
    "The decision tree classifier model was less successful than the logistic regression model with 72% accuracy in the test set. The tree created by the classifier demonstrated that a branch of lower sensation seeking, lower openness, and higher conscientiousness was the most predictive of never using an illegal drug. All other leaves classified an observation as a user."
   ]
  },
  {
   "cell_type": "markdown",
   "metadata": {},
   "source": [
    "### Conclusion and summary\n",
    "Overall, the results of this project appear to align with published literature and our intuitions of how demographics and personality would impact illegal drug use. Individuals who use an illegal drug in their lifetime tend to be male, score higher on sensation seeking and openness, and lower on conscientiousness."
   ]
  },
  {
   "cell_type": "markdown",
   "metadata": {},
   "source": [
    "### Limitations and later work\n",
    "Given the extremely high usage (~15%) of drugs like heroin and crack, it is clear that the participants of this survey are not representative of the general population. The paper reports that the participants were largely English-speaking, highly educated, and white. Also, because there is no data on the life outcomes of the participants, we cannot conclude that the usage of these illegal drugs is deleterious, and therefore, we cannot conclude that having the associated personality traits is undesirable. \n",
    "\n",
    "In later work with this dataset, I am interested in looking at the drugs individually, and also in groupings other than just illegal drugs. For instance, we know that while mushrooms, ecstasy, cocaine, LSD, ketamine, heroin, and crack are all illegal, it is heroin and crack that are known to be strongly associated with deleterious life outcomes. \n",
    "\n",
    "Below, you will find the preliminary results of an analysis of the totals, percentages, accuracies, intercepts, minimum, and maximum betas for multiple logistic regression models run on each drug individually, with the target variable being \"Used within the last year.\" It is important to note here that the high accuracy metrics for crack and chocolate are not very meaningful, since very few participants and almost all participants used crack and chocolate within the last year, respectively. In these cases of class inbalance, most of the work is accomplished by the intercept value. Measures more sophisticated than accuracy must then be used to evaluate model performance. However, in this preliminary analysis, you can already see that there is differential association of certain drugs with openness, sensation seeking, neuroticism, impulsivity, etc."
   ]
  },
  {
   "cell_type": "code",
   "execution_count": null,
   "metadata": {},
   "outputs": [],
   "source": [
    "# Read csv\n",
    "import pandas as pd\n",
    "csv = pd.read_csv('Data/Drugs.csv', header = None)\n",
    "# Name columns\n",
    "columns = ['Age', 'Female', 'Education', 'Country', 'Ethnicity', \\\n",
    "           'Neuroticism', 'Extraversion', 'Openness', 'Agreeableness', 'Conscientiousness', \\\n",
    "           'Impulsivity', 'SensationSeeking', \\\n",
    "           'Alcohol', 'Amphetamines', 'AmylNitrite', 'Benzodiazepines', 'Caffeine', 'Cannabis', 'Chocolate', \\\n",
    "           'Cocaine', 'Crack', 'Ecstasy', 'Heroin', 'Ketamine', 'LegalHighs', 'LSD', 'Methadone', 'Mushrooms', \\\n",
    "           'Nicotine', 'Semer', 'VolatileSubstances']\n",
    "# Create DataFrame\n",
    "data = pd.DataFrame(data = csv)\n",
    "data.columns = columns\n",
    "# Drop multi-category, non-ordinal features\n",
    "data = data.drop(['Country', 'Ethnicity'], axis = 1)\n",
    "# Check value count for Semer, a fictitious drug included to weed out participants responding improperly\n",
    "# Remove these rows\n",
    "data = data[data['Semer'] == 0]\n",
    "# Drop semer column\n",
    "data = data.drop('Semer', axis = 1)\n",
    "# Scale data\n",
    "from sklearn.preprocessing import StandardScaler\n",
    "scaler = StandardScaler()\n",
    "scaler.fit(X_train)\n",
    "X_train = scaler.transform(X_train)\n",
    "X_test = scaler.transform(X_test)"
   ]
  },
  {
   "cell_type": "code",
   "execution_count": null,
   "metadata": {},
   "outputs": [],
   "source": [
    "# For loop calculations for each drug\n",
    "drug_name = []\n",
    "total = []\n",
    "percent = []\n",
    "accuracy = []\n",
    "precision = []\n",
    "recall = []\n",
    "balanced_accuracy = []\n",
    "f1 = []\n",
    "intercept = []\n",
    "min_beta_name = []\n",
    "min_beta = []\n",
    "max_beta_name = []\n",
    "max_beta = []\n",
    "for i, drug in enumerate(drug_columns):\n",
    "    drug_df = data[data.columns[i + 10]]\n",
    "    drug_df['UsedDrug'] = drug_df > 2 # yearly vs. non-yearly users\n",
    "    # Add column to main data\n",
    "    data['UsedDrug'] = drug_df['UsedDrug']\n",
    "    # Drop columns not of interest\n",
    "    data_drug = data[['Female', 'Education', 'Neuroticism', 'Extraversion', 'Openness', 'Agreeableness', \\\n",
    "                'Conscientiousness', 'Impulsivity', 'SensationSeeking', 'UsedDrug']]\n",
    "    # Separate features from target\n",
    "    X = data_drug.drop('UsedDrug', axis = 1)\n",
    "    y = data_drug['UsedDrug']\n",
    "    # Train test split\n",
    "    X_train, X_test, y_train, y_test = train_test_split(X, y, test_size = 0.2, random_state = 20201011)\n",
    "    columns = X_train.columns\n",
    "    # Scale\n",
    "    scaler.fit(X_train)\n",
    "    X_train = scaler.transform(X_train)\n",
    "    X_test = scaler.transform(X_test)\n",
    "    # Run logistic regression\n",
    "    model = LogisticRegression()\n",
    "    model.fit(X_train, y_train)\n",
    "    y_pred = model.predict(X_test)\n",
    "    coefs = model.coef_.round(2)\n",
    "    # Sort features by beta value\n",
    "    feature_coefs = pd.DataFrame(columns = ['Feature', 'Beta'])\n",
    "    feature_coefs['Feature'] = columns\n",
    "    feature_coefs['Beta'] = coefs[0]\n",
    "    drug_name.append(drug)\n",
    "    total.append(sum(drug_df['UsedDrug']))\n",
    "    percent.append(round(sum(drug_df['UsedDrug'])/len(drug_df['UsedDrug']), 2))\n",
    "    accuracy.append(round(accuracy_score(y_test, y_pred),2))\n",
    "    precision.append(precision_score(y_test, y_pred, zero_division = 0).round(2))\n",
    "    recall.append(recall_score(y_test, y_pred).round(2))\n",
    "    f1.append(f1_score(y_test, y_pred).round(2))\n",
    "    balanced_accuracy.append(balanced_accuracy_score(y_test, y_pred).round(2))\n",
    "    intercept.append(round(model.intercept_[0],2))\n",
    "    min_beta_name.append(feature_coefs.sort_values('Beta').iloc[0][0])\n",
    "    min_beta.append(feature_coefs.sort_values('Beta').iloc[0][1])\n",
    "    max_beta_name.append(feature_coefs.sort_values('Beta', ascending = False).iloc[0][0])\n",
    "    max_beta.append(feature_coefs.sort_values('Beta', ascending = False).iloc[0][1])"
   ]
  },
  {
   "cell_type": "code",
   "execution_count": null,
   "metadata": {},
   "outputs": [],
   "source": [
    "# Create data frame\n",
    "results = pd.DataFrame({'Drug': drug_name, 'Total': total, 'Percent': percent,\n",
    "                        'Accuracy': accuracy, 'Precision': precision, 'Recall': recall, \\\n",
    "                        'F1 Score': f1, 'Balanced Accuracy': balanced_accuracy, \\\n",
    "                        'Intercept': intercept, \\\n",
    "                        'Min Beta Name': min_beta_name, 'Min Beta': min_beta, \\\n",
    "                        'Max Beta Name': max_beta_name, 'Max Beta': max_beta})\n",
    "results.sort_values('Min Beta')\n",
    "# Accuracy can be high though precision and recall are 0 because classification is totally driven by the intercept\n",
    "# Precision and recall are important when you care about true positions (e.g. crack, heroin) in cases of class inbalance\n",
    "# In opposite cases of class inbalance (user of interest > 90% of sample, e.g. alcohol), \n",
    "# you should care more about true negatives (e.g. correctly classifying Muslims as non-drinkers)\n",
    "# What if you don't model the intercept? LogisticRegression(fit_intercept = False)\n",
    "# Low precision = lots of false positives\n",
    "# If N >> P, F1 is a better metric\n",
    "# If P >> N, balanced accuracy is a better metric"
   ]
  }
 ],
 "metadata": {
  "kernelspec": {
   "display_name": "Python 3",
   "language": "python",
   "name": "python3"
  },
  "language_info": {
   "codemirror_mode": {
    "name": "ipython",
    "version": 3
   },
   "file_extension": ".py",
   "mimetype": "text/x-python",
   "name": "python",
   "nbconvert_exporter": "python",
   "pygments_lexer": "ipython3",
   "version": "3.8.3"
  }
 },
 "nbformat": 4,
 "nbformat_minor": 4
}
